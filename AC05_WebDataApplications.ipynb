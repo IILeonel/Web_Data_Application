{
 "cells": [
  {
   "cell_type": "markdown",
   "metadata": {
    "id": "MXZPCD5ECU_C"
   },
   "source": [
    "Crawleando dados da internet e salva em um banco de dados."
   ]
  },
  {
   "cell_type": "code",
   "execution_count": 1,
   "metadata": {
    "colab": {
     "base_uri": "https://localhost:8080/"
    },
    "id": "IfT2bRkWPrZG",
    "outputId": "e46980ad-b1ba-4941-ef62-4afdf3bf9dbb"
   },
   "outputs": [
    {
     "name": "stdout",
     "output_type": "stream",
     "text": [
      "OK\n",
      "Get:1 https://cloud.r-project.org/bin/linux/ubuntu bionic-cran40/ InRelease [3,626 B]\n",
      "Ign:2 https://developer.download.nvidia.com/compute/cuda/repos/ubuntu1804/x86_64  InRelease\n",
      "Ign:3 https://developer.download.nvidia.com/compute/machine-learning/repos/ubuntu1804/x86_64  InRelease\n",
      "Get:4 https://developer.download.nvidia.com/compute/cuda/repos/ubuntu1804/x86_64  Release [697 B]\n",
      "Hit:5 https://developer.download.nvidia.com/compute/machine-learning/repos/ubuntu1804/x86_64  Release\n",
      "Get:6 https://developer.download.nvidia.com/compute/cuda/repos/ubuntu1804/x86_64  Release.gpg [836 B]\n",
      "Get:7 https://cloud.r-project.org/bin/linux/ubuntu bionic-cran40/ Packages [60.9 kB]\n",
      "Get:8 http://security.ubuntu.com/ubuntu bionic-security InRelease [88.7 kB]\n",
      "Get:9 http://ppa.launchpad.net/c2d4u.team/c2d4u4.0+/ubuntu bionic InRelease [15.9 kB]\n",
      "Get:11 https://packages.microsoft.com/ubuntu/16.04/prod xenial InRelease [4,003 B]\n",
      "Ign:12 https://developer.download.nvidia.com/compute/cuda/repos/ubuntu1804/x86_64  Packages\n",
      "Get:12 https://developer.download.nvidia.com/compute/cuda/repos/ubuntu1804/x86_64  Packages [798 kB]\n",
      "Hit:13 http://archive.ubuntu.com/ubuntu bionic InRelease\n",
      "Get:14 http://archive.ubuntu.com/ubuntu bionic-updates InRelease [88.7 kB]\n",
      "Get:15 https://packages.microsoft.com/ubuntu/16.04/prod xenial/main amd64 Packages [229 kB]\n",
      "Hit:16 http://ppa.launchpad.net/cran/libgit2/ubuntu bionic InRelease\n",
      "Get:17 http://security.ubuntu.com/ubuntu bionic-security/main amd64 Packages [2,152 kB]\n",
      "Hit:18 http://ppa.launchpad.net/deadsnakes/ppa/ubuntu bionic InRelease\n",
      "Get:19 http://archive.ubuntu.com/ubuntu bionic-backports InRelease [74.6 kB]\n",
      "Get:20 http://ppa.launchpad.net/graphics-drivers/ppa/ubuntu bionic InRelease [21.3 kB]\n",
      "Get:21 http://archive.ubuntu.com/ubuntu bionic-updates/universe amd64 Packages [2,184 kB]\n",
      "Get:22 http://security.ubuntu.com/ubuntu bionic-security/universe amd64 Packages [1,413 kB]\n",
      "Get:23 http://security.ubuntu.com/ubuntu bionic-security/restricted amd64 Packages [423 kB]\n",
      "Get:24 http://ppa.launchpad.net/c2d4u.team/c2d4u4.0+/ubuntu bionic/main Sources [1,770 kB]\n",
      "Get:25 http://archive.ubuntu.com/ubuntu bionic-updates/restricted amd64 Packages [452 kB]\n",
      "Get:26 http://archive.ubuntu.com/ubuntu bionic-updates/main amd64 Packages [2,584 kB]\n",
      "Get:27 http://ppa.launchpad.net/c2d4u.team/c2d4u4.0+/ubuntu bionic/main amd64 Packages [906 kB]\n",
      "Get:28 http://ppa.launchpad.net/graphics-drivers/ppa/ubuntu bionic/main amd64 Packages [41.5 kB]\n",
      "Fetched 13.3 MB in 4s (3,180 kB/s)\n",
      "Reading package lists...\n",
      "Reading package lists...\n",
      "Building dependency tree...\n",
      "Reading state information...\n",
      "The following package was automatically installed and is no longer required:\n",
      "  libnvidia-common-460\n",
      "Use 'sudo apt autoremove' to remove it.\n",
      "The following additional packages will be installed:\n",
      "  libodbc1 odbcinst odbcinst1debian2 unixodbc unixodbc-dev\n",
      "Suggested packages:\n",
      "  unixodbc-bin\n",
      "The following NEW packages will be installed:\n",
      "  msodbcsql17 unixodbc\n",
      "The following packages will be upgraded:\n",
      "  libodbc1 odbcinst odbcinst1debian2 unixodbc-dev\n",
      "4 upgraded, 2 newly installed, 0 to remove and 87 not upgraded.\n",
      "Need to get 1,459 kB of archives.\n",
      "After this operation, 152 kB of additional disk space will be used.\n",
      "Get:1 https://packages.microsoft.com/ubuntu/16.04/prod xenial/main amd64 odbcinst amd64 2.3.7 [12.0 kB]\n",
      "Get:2 https://packages.microsoft.com/ubuntu/16.04/prod xenial/main amd64 unixodbc-dev amd64 2.3.7 [37.1 kB]\n",
      "Get:3 https://packages.microsoft.com/ubuntu/16.04/prod xenial/main amd64 odbcinst1debian2 amd64 2.3.7 [135 kB]\n",
      "Get:4 https://packages.microsoft.com/ubuntu/16.04/prod xenial/main amd64 libodbc1 amd64 2.3.7 [511 kB]\n",
      "Get:5 https://packages.microsoft.com/ubuntu/16.04/prod xenial/main amd64 unixodbc amd64 2.3.7 [19.6 kB]\n",
      "Get:6 https://packages.microsoft.com/ubuntu/16.04/prod xenial/main amd64 msodbcsql17 amd64 17.7.2.1-1 [745 kB]\n",
      "Fetched 1,459 kB in 1s (1,736 kB/s)\n",
      "(Reading database ... \r",
      "(Reading database ... 5%\r",
      "(Reading database ... 10%\r",
      "(Reading database ... 15%\r",
      "(Reading database ... 20%\r",
      "(Reading database ... 25%\r",
      "(Reading database ... 30%\r",
      "(Reading database ... 35%\r",
      "(Reading database ... 40%\r",
      "(Reading database ... 45%\r",
      "(Reading database ... 50%\r",
      "(Reading database ... 55%\r",
      "(Reading database ... 60%\r",
      "(Reading database ... 65%\r",
      "(Reading database ... 70%\r",
      "(Reading database ... 75%\r",
      "(Reading database ... 80%\r",
      "(Reading database ... 85%\r",
      "(Reading database ... 90%\r",
      "(Reading database ... 95%\r",
      "(Reading database ... 100%\r",
      "(Reading database ... 160706 files and directories currently installed.)\r\n",
      "Preparing to unpack .../0-odbcinst_2.3.7_amd64.deb ...\r\n",
      "Unpacking odbcinst (2.3.7) over (2.3.4-1.1ubuntu3) ...\r\n",
      "Preparing to unpack .../1-unixodbc-dev_2.3.7_amd64.deb ...\r\n",
      "Unpacking unixodbc-dev (2.3.7) over (2.3.4-1.1ubuntu3) ...\r\n",
      "Preparing to unpack .../2-odbcinst1debian2_2.3.7_amd64.deb ...\r\n",
      "Unpacking odbcinst1debian2:amd64 (2.3.7) over (2.3.4-1.1ubuntu3) ...\r\n",
      "Preparing to unpack .../3-libodbc1_2.3.7_amd64.deb ...\r\n",
      "Unpacking libodbc1:amd64 (2.3.7) over (2.3.4-1.1ubuntu3) ...\r\n",
      "Selecting previously unselected package unixodbc.\r\n",
      "Preparing to unpack .../4-unixodbc_2.3.7_amd64.deb ...\r\n",
      "Unpacking unixodbc (2.3.7) ...\r\n",
      "Selecting previously unselected package msodbcsql17.\r\n",
      "Preparing to unpack .../5-msodbcsql17_17.7.2.1-1_amd64.deb ...\r\n",
      "debconf: unable to initialize frontend: Dialog\r\n",
      "debconf: (No usable dialog-like program is installed, so the dialog based frontend cannot be used. at /usr/share/perl5/Debconf/FrontEnd/Dialog.pm line 76.)\r\n",
      "debconf: falling back to frontend: Readline\r\n",
      "Unpacking msodbcsql17 (17.7.2.1-1) ...\r\n",
      "Setting up libodbc1:amd64 (2.3.7) ...\r\n",
      "Setting up odbcinst1debian2:amd64 (2.3.7) ...\r\n",
      "Setting up odbcinst (2.3.7) ...\r\n",
      "Setting up unixodbc (2.3.7) ...\r\n",
      "Setting up unixodbc-dev (2.3.7) ...\r\n",
      "Setting up msodbcsql17 (17.7.2.1-1) ...\r\n",
      "Processing triggers for libc-bin (2.27-3ubuntu1.2) ...\r\n",
      "/sbin/ldconfig.real: /usr/local/lib/python3.7/dist-packages/ideep4py/lib/libmkldnn.so.0 is not a symbolic link\r\n",
      "\r\n",
      "Processing triggers for man-db (2.8.3-2ubuntu0.1) ...\r\n",
      "Collecting pyodbc\n",
      "  Downloading https://files.pythonhosted.org/packages/81/0d/bb08bb16c97765244791c73e49de9fd4c24bb3ef00313aed82e5640dee5d/pyodbc-4.0.30.tar.gz (266kB)\n",
      "Building wheels for collected packages: pyodbc\n",
      "  Building wheel for pyodbc (setup.py): started\n",
      "  Building wheel for pyodbc (setup.py): finished with status 'done'\n",
      "  Created wheel for pyodbc: filename=pyodbc-4.0.30-cp37-cp37m-linux_x86_64.whl size=280871 sha256=c1b84bd6f57fe51082f10b6c11cb5ff587be03f257ccbebcd7d8b65d0237170c\n",
      "  Stored in directory: /root/.cache/pip/wheels/4a/02/ba/6b495fec7cb127583a769a74f3ba91eb700d73e25fbb5ba09b\n",
      "Successfully built pyodbc\n",
      "Installing collected packages: pyodbc\n",
      "Successfully installed pyodbc-4.0.30\n",
      "Requirement already satisfied: sqlalchemy in /usr/local/lib/python3.7/dist-packages (1.4.15)\n",
      "Requirement already satisfied: greenlet!=0.4.17; python_version >= \"3\" in /usr/local/lib/python3.7/dist-packages (from sqlalchemy) (1.1.0)\n",
      "Requirement already satisfied: importlib-metadata; python_version < \"3.8\" in /usr/local/lib/python3.7/dist-packages (from sqlalchemy) (4.0.1)\n",
      "Requirement already satisfied: zipp>=0.5 in /usr/local/lib/python3.7/dist-packages (from importlib-metadata; python_version < \"3.8\"->sqlalchemy) (3.4.1)\n",
      "Requirement already satisfied: typing-extensions>=3.6.4; python_version < \"3.8\" in /usr/local/lib/python3.7/dist-packages (from importlib-metadata; python_version < \"3.8\"->sqlalchemy) (3.7.4.3)\n",
      "Collecting s3fs\n",
      "  Downloading https://files.pythonhosted.org/packages/c5/51/3436ab8eadf24cb2625cdc11d855c85d10bf15ba8d59bfd46ff01a85773f/s3fs-2021.5.0-py3-none-any.whl\n",
      "Collecting fsspec==2021.05.0\n",
      "  Downloading https://files.pythonhosted.org/packages/bc/52/816d1a3a599176057bf29dfacb1f8fadb61d35fbd96cb1bab4aaa7df83c0/fsspec-2021.5.0-py3-none-any.whl (111kB)\n",
      "Collecting aiobotocore>=1.0.1\n",
      "  Downloading https://files.pythonhosted.org/packages/21/8e/4562029e179226051cd4aa3135444deb014fc9b0795f80f7f3563745f8d5/aiobotocore-1.3.0.tar.gz (48kB)\n",
      "Collecting botocore<1.20.50,>=1.20.49\n",
      "  Downloading https://files.pythonhosted.org/packages/68/59/6e28ce58206039ad2592992b75ee79a8f9dbc902a9704373ddacc4f96300/botocore-1.20.49-py2.py3-none-any.whl (7.4MB)\n",
      "Collecting aiohttp>=3.3.1\n",
      "  Downloading https://files.pythonhosted.org/packages/88/c0/5890b4c8b04a79b7360e8fe4490feb0bb3ab179743f199f0e6220cebd568/aiohttp-3.7.4.post0-cp37-cp37m-manylinux2014_x86_64.whl (1.3MB)\n",
      "Requirement already satisfied: wrapt>=1.10.10 in /usr/local/lib/python3.7/dist-packages (from aiobotocore>=1.0.1->s3fs) (1.12.1)\n",
      "Collecting aioitertools>=0.5.1\n",
      "  Downloading https://files.pythonhosted.org/packages/32/0b/3260ac050de07bf6e91871944583bb8598091da19155c34f7ef02244709c/aioitertools-0.7.1-py3-none-any.whl\n",
      "Requirement already satisfied: python-dateutil<3.0.0,>=2.1 in /usr/local/lib/python3.7/dist-packages (from botocore<1.20.50,>=1.20.49->aiobotocore>=1.0.1->s3fs) (2.8.1)\n",
      "Collecting jmespath<1.0.0,>=0.7.1\n",
      "  Downloading https://files.pythonhosted.org/packages/07/cb/5f001272b6faeb23c1c9e0acc04d48eaaf5c862c17709d20e3469c6e0139/jmespath-0.10.0-py2.py3-none-any.whl\n",
      "Collecting urllib3<1.27,>=1.25.4\n",
      "  Downloading https://files.pythonhosted.org/packages/0c/cd/1e2ec680ec7b09846dc6e605f5a7709dfb9d7128e51a026e7154e18a234e/urllib3-1.26.5-py2.py3-none-any.whl (138kB)\n",
      "Collecting yarl<2.0,>=1.0\n",
      "  Downloading https://files.pythonhosted.org/packages/f1/62/046834c5fc998c88ab2ef722f5d42122230a632212c8afa76418324f53ff/yarl-1.6.3-cp37-cp37m-manylinux2014_x86_64.whl (294kB)\n",
      "Collecting async-timeout<4.0,>=3.0\n",
      "  Downloading https://files.pythonhosted.org/packages/e1/1e/5a4441be21b0726c4464f3f23c8b19628372f606755a9d2e46c187e65ec4/async_timeout-3.0.1-py3-none-any.whl\n",
      "Requirement already satisfied: typing-extensions>=3.6.5 in /usr/local/lib/python3.7/dist-packages (from aiohttp>=3.3.1->aiobotocore>=1.0.1->s3fs) (3.7.4.3)\n",
      "Collecting multidict<7.0,>=4.5\n",
      "  Downloading https://files.pythonhosted.org/packages/7c/a6/4123b8165acbe773d1a8dc8e3f0d1edea16d29f7de018eda769abb56bd30/multidict-5.1.0-cp37-cp37m-manylinux2014_x86_64.whl (142kB)\n",
      "Requirement already satisfied: attrs>=17.3.0 in /usr/local/lib/python3.7/dist-packages (from aiohttp>=3.3.1->aiobotocore>=1.0.1->s3fs) (21.2.0)\n",
      "Requirement already satisfied: chardet<5.0,>=2.0 in /usr/local/lib/python3.7/dist-packages (from aiohttp>=3.3.1->aiobotocore>=1.0.1->s3fs) (3.0.4)\n",
      "Requirement already satisfied: six>=1.5 in /usr/local/lib/python3.7/dist-packages (from python-dateutil<3.0.0,>=2.1->botocore<1.20.50,>=1.20.49->aiobotocore>=1.0.1->s3fs) (1.15.0)\n",
      "Requirement already satisfied: idna>=2.0 in /usr/local/lib/python3.7/dist-packages (from yarl<2.0,>=1.0->aiohttp>=3.3.1->aiobotocore>=1.0.1->s3fs) (2.10)\n",
      "Building wheels for collected packages: aiobotocore\n",
      "  Building wheel for aiobotocore (setup.py): started\n",
      "  Building wheel for aiobotocore (setup.py): finished with status 'done'\n",
      "  Created wheel for aiobotocore: filename=aiobotocore-1.3.0-cp37-none-any.whl size=45781 sha256=9e5d079132cc46e943e778ad038695062b7b3beb53c684d927da94f2e97aa27d\n",
      "  Stored in directory: /root/.cache/pip/wheels/1d/5b/92/72a47210109971364c619c41e29289d4e7d58269f0cc653bf1\n",
      "Successfully built aiobotocore\n",
      "Installing collected packages: fsspec, jmespath, urllib3, botocore, multidict, yarl, async-timeout, aiohttp, aioitertools, aiobotocore, s3fs\n",
      "  Found existing installation: urllib3 1.24.3\n",
      "    Uninstalling urllib3-1.24.3:\n",
      "      Successfully uninstalled urllib3-1.24.3\n",
      "Successfully installed aiobotocore-1.3.0 aiohttp-3.7.4.post0 aioitertools-0.7.1 async-timeout-3.0.1 botocore-1.20.49 fsspec-2021.5.0 jmespath-0.10.0 multidict-5.1.0 s3fs-2021.5.0 urllib3-1.26.5 yarl-1.6.3\n",
      "Collecting boto3\n",
      "  Downloading https://files.pythonhosted.org/packages/11/20/4294e37c3c6936c905f1e9da958c776d7fee54a4512bdb7706d69c8720e6/boto3-1.17.84-py2.py3-none-any.whl (131kB)\n",
      "Requirement already satisfied: jmespath<1.0.0,>=0.7.1 in /usr/local/lib/python3.7/dist-packages (from boto3) (0.10.0)\n",
      "Collecting botocore<1.21.0,>=1.20.84\n",
      "  Downloading https://files.pythonhosted.org/packages/bc/22/72c81d754bbcb128cba2ad88670c3c320e4594e6ddd8cca6512c3967108c/botocore-1.20.84-py2.py3-none-any.whl (7.6MB)\n",
      "Collecting s3transfer<0.5.0,>=0.4.0\n",
      "  Downloading https://files.pythonhosted.org/packages/63/d0/693477c688348654ddc21dcdce0817653a294aa43f41771084c25e7ff9c7/s3transfer-0.4.2-py2.py3-none-any.whl (79kB)\n",
      "Requirement already satisfied: urllib3<1.27,>=1.25.4 in /usr/local/lib/python3.7/dist-packages (from botocore<1.21.0,>=1.20.84->boto3) (1.26.5)\n",
      "Requirement already satisfied: python-dateutil<3.0.0,>=2.1 in /usr/local/lib/python3.7/dist-packages (from botocore<1.21.0,>=1.20.84->boto3) (2.8.1)\n",
      "Requirement already satisfied: six>=1.5 in /usr/local/lib/python3.7/dist-packages (from python-dateutil<3.0.0,>=2.1->botocore<1.21.0,>=1.20.84->boto3) (1.15.0)\n",
      "Installing collected packages: botocore, s3transfer, boto3\n",
      "  Found existing installation: botocore 1.20.49\n",
      "    Uninstalling botocore-1.20.49:\n",
      "      Successfully uninstalled botocore-1.20.49\n",
      "Successfully installed boto3-1.17.84 botocore-1.20.84 s3transfer-0.4.2\n"
     ]
    },
    {
     "name": "stderr",
     "output_type": "stream",
     "text": [
      "  % Total    % Received % Xferd  Average Speed   Time    Time     Time  Current\n",
      "                                 Dload  Upload   Total   Spent    Left  Speed\n",
      "\r",
      "  0     0    0     0    0     0      0      0 --:--:-- --:--:-- --:--:--     0Warning: apt-key output should not be parsed (stdout is not a terminal)\n",
      "\r",
      "  0     0    0     0    0     0      0      0 --:--:-- --:--:-- --:--:--     0\r",
      "100   983  100   983    0     0   1868      0 --:--:-- --:--:-- --:--:--  1865\n",
      "  % Total    % Received % Xferd  Average Speed   Time    Time     Time  Current\n",
      "                                 Dload  Upload   Total   Spent    Left  Speed\n",
      "\r",
      "  0     0    0     0    0     0      0      0 --:--:-- --:--:-- --:--:--     0\r",
      "100    79  100    79    0     0    286      0 --:--:-- --:--:-- --:--:--   286\n",
      "debconf: unable to initialize frontend: Dialog\n",
      "debconf: (No usable dialog-like program is installed, so the dialog based frontend cannot be used. at /usr/share/perl5/Debconf/FrontEnd/Dialog.pm line 76, <> line 6.)\n",
      "debconf: falling back to frontend: Readline\n",
      "debconf: unable to initialize frontend: Readline\n",
      "debconf: (This frontend requires a controlling tty.)\n",
      "debconf: falling back to frontend: Teletype\n",
      "dpkg-preconfigure: unable to re-open stdin: \n",
      "ERROR: requests 2.23.0 has requirement urllib3!=1.25.0,!=1.25.1,<1.26,>=1.21.1, but you'll have urllib3 1.26.5 which is incompatible.\n",
      "ERROR: datascience 0.10.6 has requirement folium==0.2.1, but you'll have folium 0.8.3 which is incompatible.\n",
      "ERROR: aiobotocore 1.3.0 has requirement botocore<1.20.50,>=1.20.49, but you'll have botocore 1.20.84 which is incompatible.\n"
     ]
    }
   ],
   "source": [
    "%%sh\n",
    "curl https://packages.microsoft.com/keys/microsoft.asc | apt-key add -\n",
    "curl https://packages.microsoft.com/config/ubuntu/16.04/prod.list > /etc/apt/sources.list.d/mssql-release.list\n",
    "sudo apt-get update\n",
    "sudo ACCEPT_EULA=Y apt-get -q -y install msodbcsql17\n",
    "sudo pip install pyodbc\n",
    "sudo pip install sqlalchemy\n",
    "sudo pip install s3fs\n",
    "pip install boto3"
   ]
  },
  {
   "cell_type": "code",
   "execution_count": 2,
   "metadata": {
    "colab": {
     "base_uri": "https://localhost:8080/"
    },
    "id": "CFK679rQWCn_",
    "outputId": "f5c515e7-c2ac-4444-d946-7d38eb0e5804"
   },
   "outputs": [
    {
     "name": "stdout",
     "output_type": "stream",
     "text": [
      "Collecting selenium\n",
      "\u001b[?25l  Downloading https://files.pythonhosted.org/packages/80/d6/4294f0b4bce4de0abf13e17190289f9d0613b0a44e5dd6a7f5ca98459853/selenium-3.141.0-py2.py3-none-any.whl (904kB)\n",
      "\r",
      "\u001b[K     |▍                               | 10kB 15.9MB/s eta 0:00:01\r",
      "\u001b[K     |▊                               | 20kB 20.4MB/s eta 0:00:01\r",
      "\u001b[K     |█                               | 30kB 16.7MB/s eta 0:00:01\r",
      "\u001b[K     |█▌                              | 40kB 14.4MB/s eta 0:00:01\r",
      "\u001b[K     |█▉                              | 51kB 8.0MB/s eta 0:00:01\r",
      "\u001b[K     |██▏                             | 61kB 9.2MB/s eta 0:00:01\r",
      "\u001b[K     |██▌                             | 71kB 7.9MB/s eta 0:00:01\r",
      "\u001b[K     |███                             | 81kB 8.7MB/s eta 0:00:01\r",
      "\u001b[K     |███▎                            | 92kB 8.8MB/s eta 0:00:01\r",
      "\u001b[K     |███▋                            | 102kB 7.6MB/s eta 0:00:01\r",
      "\u001b[K     |████                            | 112kB 7.6MB/s eta 0:00:01\r",
      "\u001b[K     |████▍                           | 122kB 7.6MB/s eta 0:00:01\r",
      "\u001b[K     |████▊                           | 133kB 7.6MB/s eta 0:00:01\r",
      "\u001b[K     |█████                           | 143kB 7.6MB/s eta 0:00:01\r",
      "\u001b[K     |█████▍                          | 153kB 7.6MB/s eta 0:00:01\r",
      "\u001b[K     |█████▉                          | 163kB 7.6MB/s eta 0:00:01\r",
      "\u001b[K     |██████▏                         | 174kB 7.6MB/s eta 0:00:01\r",
      "\u001b[K     |██████▌                         | 184kB 7.6MB/s eta 0:00:01\r",
      "\u001b[K     |██████▉                         | 194kB 7.6MB/s eta 0:00:01\r",
      "\u001b[K     |███████▎                        | 204kB 7.6MB/s eta 0:00:01\r",
      "\u001b[K     |███████▋                        | 215kB 7.6MB/s eta 0:00:01\r",
      "\u001b[K     |████████                        | 225kB 7.6MB/s eta 0:00:01\r",
      "\u001b[K     |████████▎                       | 235kB 7.6MB/s eta 0:00:01\r",
      "\u001b[K     |████████▊                       | 245kB 7.6MB/s eta 0:00:01\r",
      "\u001b[K     |█████████                       | 256kB 7.6MB/s eta 0:00:01\r",
      "\u001b[K     |█████████▍                      | 266kB 7.6MB/s eta 0:00:01\r",
      "\u001b[K     |█████████▉                      | 276kB 7.6MB/s eta 0:00:01\r",
      "\u001b[K     |██████████▏                     | 286kB 7.6MB/s eta 0:00:01\r",
      "\u001b[K     |██████████▌                     | 296kB 7.6MB/s eta 0:00:01\r",
      "\u001b[K     |██████████▉                     | 307kB 7.6MB/s eta 0:00:01\r",
      "\u001b[K     |███████████▎                    | 317kB 7.6MB/s eta 0:00:01\r",
      "\u001b[K     |███████████▋                    | 327kB 7.6MB/s eta 0:00:01\r",
      "\u001b[K     |████████████                    | 337kB 7.6MB/s eta 0:00:01\r",
      "\u001b[K     |████████████▎                   | 348kB 7.6MB/s eta 0:00:01\r",
      "\u001b[K     |████████████▊                   | 358kB 7.6MB/s eta 0:00:01\r",
      "\u001b[K     |█████████████                   | 368kB 7.6MB/s eta 0:00:01\r",
      "\u001b[K     |█████████████▍                  | 378kB 7.6MB/s eta 0:00:01\r",
      "\u001b[K     |█████████████▊                  | 389kB 7.6MB/s eta 0:00:01\r",
      "\u001b[K     |██████████████▏                 | 399kB 7.6MB/s eta 0:00:01\r",
      "\u001b[K     |██████████████▌                 | 409kB 7.6MB/s eta 0:00:01\r",
      "\u001b[K     |██████████████▉                 | 419kB 7.6MB/s eta 0:00:01\r",
      "\u001b[K     |███████████████▏                | 430kB 7.6MB/s eta 0:00:01\r",
      "\u001b[K     |███████████████▋                | 440kB 7.6MB/s eta 0:00:01\r",
      "\u001b[K     |████████████████                | 450kB 7.6MB/s eta 0:00:01\r",
      "\u001b[K     |████████████████▎               | 460kB 7.6MB/s eta 0:00:01\r",
      "\u001b[K     |████████████████▋               | 471kB 7.6MB/s eta 0:00:01\r",
      "\u001b[K     |█████████████████               | 481kB 7.6MB/s eta 0:00:01\r",
      "\u001b[K     |█████████████████▍              | 491kB 7.6MB/s eta 0:00:01\r",
      "\u001b[K     |█████████████████▊              | 501kB 7.6MB/s eta 0:00:01\r",
      "\u001b[K     |██████████████████▏             | 512kB 7.6MB/s eta 0:00:01\r",
      "\u001b[K     |██████████████████▌             | 522kB 7.6MB/s eta 0:00:01\r",
      "\u001b[K     |██████████████████▉             | 532kB 7.6MB/s eta 0:00:01\r",
      "\u001b[K     |███████████████████▏            | 542kB 7.6MB/s eta 0:00:01\r",
      "\u001b[K     |███████████████████▋            | 552kB 7.6MB/s eta 0:00:01\r",
      "\u001b[K     |████████████████████            | 563kB 7.6MB/s eta 0:00:01\r",
      "\u001b[K     |████████████████████▎           | 573kB 7.6MB/s eta 0:00:01\r",
      "\u001b[K     |████████████████████▋           | 583kB 7.6MB/s eta 0:00:01\r",
      "\u001b[K     |█████████████████████           | 593kB 7.6MB/s eta 0:00:01\r",
      "\u001b[K     |█████████████████████▍          | 604kB 7.6MB/s eta 0:00:01\r",
      "\u001b[K     |█████████████████████▊          | 614kB 7.6MB/s eta 0:00:01\r",
      "\u001b[K     |██████████████████████          | 624kB 7.6MB/s eta 0:00:01\r",
      "\u001b[K     |██████████████████████▌         | 634kB 7.6MB/s eta 0:00:01\r",
      "\u001b[K     |██████████████████████▉         | 645kB 7.6MB/s eta 0:00:01\r",
      "\u001b[K     |███████████████████████▏        | 655kB 7.6MB/s eta 0:00:01\r",
      "\u001b[K     |███████████████████████▌        | 665kB 7.6MB/s eta 0:00:01\r",
      "\u001b[K     |████████████████████████        | 675kB 7.6MB/s eta 0:00:01\r",
      "\u001b[K     |████████████████████████▎       | 686kB 7.6MB/s eta 0:00:01\r",
      "\u001b[K     |████████████████████████▋       | 696kB 7.6MB/s eta 0:00:01\r",
      "\u001b[K     |█████████████████████████       | 706kB 7.6MB/s eta 0:00:01\r",
      "\u001b[K     |█████████████████████████▍      | 716kB 7.6MB/s eta 0:00:01\r",
      "\u001b[K     |█████████████████████████▊      | 727kB 7.6MB/s eta 0:00:01\r",
      "\u001b[K     |██████████████████████████      | 737kB 7.6MB/s eta 0:00:01\r",
      "\u001b[K     |██████████████████████████▍     | 747kB 7.6MB/s eta 0:00:01\r",
      "\u001b[K     |██████████████████████████▉     | 757kB 7.6MB/s eta 0:00:01\r",
      "\u001b[K     |███████████████████████████▏    | 768kB 7.6MB/s eta 0:00:01\r",
      "\u001b[K     |███████████████████████████▌    | 778kB 7.6MB/s eta 0:00:01\r",
      "\u001b[K     |████████████████████████████    | 788kB 7.6MB/s eta 0:00:01\r",
      "\u001b[K     |████████████████████████████▎   | 798kB 7.6MB/s eta 0:00:01\r",
      "\u001b[K     |████████████████████████████▋   | 808kB 7.6MB/s eta 0:00:01\r",
      "\u001b[K     |█████████████████████████████   | 819kB 7.6MB/s eta 0:00:01\r",
      "\u001b[K     |█████████████████████████████▍  | 829kB 7.6MB/s eta 0:00:01\r",
      "\u001b[K     |█████████████████████████████▊  | 839kB 7.6MB/s eta 0:00:01\r",
      "\u001b[K     |██████████████████████████████  | 849kB 7.6MB/s eta 0:00:01\r",
      "\u001b[K     |██████████████████████████████▍ | 860kB 7.6MB/s eta 0:00:01\r",
      "\u001b[K     |██████████████████████████████▉ | 870kB 7.6MB/s eta 0:00:01\r",
      "\u001b[K     |███████████████████████████████▏| 880kB 7.6MB/s eta 0:00:01\r",
      "\u001b[K     |███████████████████████████████▌| 890kB 7.6MB/s eta 0:00:01\r",
      "\u001b[K     |███████████████████████████████▉| 901kB 7.6MB/s eta 0:00:01\r",
      "\u001b[K     |████████████████████████████████| 911kB 7.6MB/s \n",
      "\u001b[?25hRequirement already satisfied: urllib3 in /usr/local/lib/python3.7/dist-packages (from selenium) (1.26.5)\n",
      "Installing collected packages: selenium\n",
      "Successfully installed selenium-3.141.0\n",
      "Ign:1 https://developer.download.nvidia.com/compute/cuda/repos/ubuntu1804/x86_64  InRelease\n",
      "Ign:2 https://developer.download.nvidia.com/compute/machine-learning/repos/ubuntu1804/x86_64  InRelease\n",
      "Hit:3 https://developer.download.nvidia.com/compute/cuda/repos/ubuntu1804/x86_64  Release\n",
      "Hit:4 https://developer.download.nvidia.com/compute/machine-learning/repos/ubuntu1804/x86_64  Release\n",
      "Hit:5 https://cloud.r-project.org/bin/linux/ubuntu bionic-cran40/ InRelease\n",
      "Hit:6 http://security.ubuntu.com/ubuntu bionic-security InRelease\n",
      "Hit:8 http://ppa.launchpad.net/c2d4u.team/c2d4u4.0+/ubuntu bionic InRelease\n",
      "Hit:9 https://packages.microsoft.com/ubuntu/16.04/prod xenial InRelease\n",
      "Hit:10 http://archive.ubuntu.com/ubuntu bionic InRelease\n",
      "Hit:12 http://archive.ubuntu.com/ubuntu bionic-updates InRelease\n",
      "Hit:13 http://ppa.launchpad.net/cran/libgit2/ubuntu bionic InRelease\n",
      "Hit:14 http://archive.ubuntu.com/ubuntu bionic-backports InRelease\n",
      "Hit:15 http://ppa.launchpad.net/deadsnakes/ppa/ubuntu bionic InRelease\n",
      "Hit:16 http://ppa.launchpad.net/graphics-drivers/ppa/ubuntu bionic InRelease\n",
      "Reading package lists... Done\n",
      "Reading package lists... Done\n",
      "Building dependency tree       \n",
      "Reading state information... Done\n",
      "The following package was automatically installed and is no longer required:\n",
      "  libnvidia-common-460\n",
      "Use 'apt autoremove' to remove it.\n",
      "The following additional packages will be installed:\n",
      "  chromium-browser chromium-browser-l10n chromium-codecs-ffmpeg-extra\n",
      "Suggested packages:\n",
      "  webaccounts-chromium-extension unity-chromium-extension\n",
      "The following NEW packages will be installed:\n",
      "  chromium-browser chromium-browser-l10n chromium-chromedriver\n",
      "  chromium-codecs-ffmpeg-extra\n",
      "0 upgraded, 4 newly installed, 0 to remove and 87 not upgraded.\n",
      "Need to get 86.6 MB of archives.\n",
      "After this operation, 300 MB of additional disk space will be used.\n",
      "Get:1 http://archive.ubuntu.com/ubuntu bionic-updates/universe amd64 chromium-codecs-ffmpeg-extra amd64 90.0.4430.93-0ubuntu0.18.04.1 [1,128 kB]\n",
      "Get:2 http://archive.ubuntu.com/ubuntu bionic-updates/universe amd64 chromium-browser amd64 90.0.4430.93-0ubuntu0.18.04.1 [76.9 MB]\n",
      "Get:3 http://archive.ubuntu.com/ubuntu bionic-updates/universe amd64 chromium-browser-l10n all 90.0.4430.93-0ubuntu0.18.04.1 [3,853 kB]\n",
      "Get:4 http://archive.ubuntu.com/ubuntu bionic-updates/universe amd64 chromium-chromedriver amd64 90.0.4430.93-0ubuntu0.18.04.1 [4,743 kB]\n",
      "Fetched 86.6 MB in 5s (15.9 MB/s)\n",
      "Selecting previously unselected package chromium-codecs-ffmpeg-extra.\n",
      "(Reading database ... 160699 files and directories currently installed.)\n",
      "Preparing to unpack .../chromium-codecs-ffmpeg-extra_90.0.4430.93-0ubuntu0.18.04.1_amd64.deb ...\n",
      "Unpacking chromium-codecs-ffmpeg-extra (90.0.4430.93-0ubuntu0.18.04.1) ...\n",
      "Selecting previously unselected package chromium-browser.\n",
      "Preparing to unpack .../chromium-browser_90.0.4430.93-0ubuntu0.18.04.1_amd64.deb ...\n",
      "Unpacking chromium-browser (90.0.4430.93-0ubuntu0.18.04.1) ...\n",
      "Selecting previously unselected package chromium-browser-l10n.\n",
      "Preparing to unpack .../chromium-browser-l10n_90.0.4430.93-0ubuntu0.18.04.1_all.deb ...\n",
      "Unpacking chromium-browser-l10n (90.0.4430.93-0ubuntu0.18.04.1) ...\n",
      "Selecting previously unselected package chromium-chromedriver.\n",
      "Preparing to unpack .../chromium-chromedriver_90.0.4430.93-0ubuntu0.18.04.1_amd64.deb ...\n",
      "Unpacking chromium-chromedriver (90.0.4430.93-0ubuntu0.18.04.1) ...\n",
      "Setting up chromium-codecs-ffmpeg-extra (90.0.4430.93-0ubuntu0.18.04.1) ...\n",
      "Setting up chromium-browser (90.0.4430.93-0ubuntu0.18.04.1) ...\n",
      "update-alternatives: using /usr/bin/chromium-browser to provide /usr/bin/x-www-browser (x-www-browser) in auto mode\n",
      "update-alternatives: using /usr/bin/chromium-browser to provide /usr/bin/gnome-www-browser (gnome-www-browser) in auto mode\n",
      "Setting up chromium-chromedriver (90.0.4430.93-0ubuntu0.18.04.1) ...\n",
      "Setting up chromium-browser-l10n (90.0.4430.93-0ubuntu0.18.04.1) ...\n",
      "Processing triggers for man-db (2.8.3-2ubuntu0.1) ...\n",
      "Processing triggers for hicolor-icon-theme (0.17-2) ...\n",
      "Processing triggers for mime-support (3.60ubuntu1) ...\n",
      "Processing triggers for libc-bin (2.27-3ubuntu1.2) ...\n",
      "/sbin/ldconfig.real: /usr/local/lib/python3.7/dist-packages/ideep4py/lib/libmkldnn.so.0 is not a symbolic link\n",
      "\n",
      "cp: '/usr/lib/chromium-browser/chromedriver' and '/usr/bin/chromedriver' are the same file\n"
     ]
    }
   ],
   "source": [
    "!pip install selenium\n",
    "!apt-get update\n",
    "!apt install chromium-chromedriver\n",
    "!cp /usr/lib/chromium-browser/chromedriver /usr/bin"
   ]
  },
  {
   "cell_type": "markdown",
   "metadata": {
    "id": "_J1aSYnk76YX"
   },
   "source": [
    "# IMPORTS"
   ]
  },
  {
   "cell_type": "code",
   "execution_count": 5,
   "metadata": {
    "id": "o6AimurlZsvx"
   },
   "outputs": [],
   "source": [
    "import sys\n",
    "sys.path.insert(0,'/usr/lib/chromium-browser/chromedriver')\n",
    "import requests\n",
    "from selenium import webdriver\n",
    "from bs4 import BeautifulSoup\n",
    "import pandas as pd\n",
    "import boto3, sqlalchemy, s3fs, pyodbc"
   ]
  },
  {
   "cell_type": "markdown",
   "metadata": {
    "id": "P9ihUmKVZH8o"
   },
   "source": [
    "# Criando os acessos via selenium e via BealtifulSoup"
   ]
  },
  {
   "cell_type": "code",
   "execution_count": 6,
   "metadata": {
    "colab": {
     "base_uri": "https://localhost:8080/"
    },
    "id": "vU59zxq5bGXS",
    "outputId": "4f629c6a-5a04-4397-a814-a6271944b992"
   },
   "outputs": [
    {
     "name": "stderr",
     "output_type": "stream",
     "text": [
      "/usr/local/lib/python3.7/dist-packages/ipykernel_launcher.py:5: DeprecationWarning: use options instead of chrome_options\n",
      "  \"\"\"\n",
      "/usr/local/lib/python3.7/dist-packages/ipykernel_launcher.py:6: DeprecationWarning: use options instead of chrome_options\n",
      "  \n"
     ]
    }
   ],
   "source": [
    "chrome_options = webdriver.ChromeOptions()\n",
    "chrome_options.add_argument('--headless')\n",
    "chrome_options.add_argument('--no-sandbox')\n",
    "chrome_options.add_argument('--disable-dev-shm-usage')\n",
    "driver = webdriver.Chrome('chromedriver',chrome_options=chrome_options)\n",
    "driver_2 = webdriver.Chrome('chromedriver',chrome_options=chrome_options)"
   ]
  },
  {
   "cell_type": "markdown",
   "metadata": {
    "id": "WLwq-o_b7Nq3"
   },
   "source": [
    "# DATA DOWNLOAD"
   ]
  },
  {
   "cell_type": "code",
   "execution_count": 7,
   "metadata": {
    "id": "x0Hhf5-HX8oW"
   },
   "outputs": [],
   "source": [
    "#Abaixo foi criado as variáveis para armazenar os dados da coleta.\n",
    "paginas = [1,2]\n",
    "description = []\n",
    "price = []\n",
    "brand = []"
   ]
  },
  {
   "cell_type": "code",
   "execution_count": 8,
   "metadata": {
    "colab": {
     "base_uri": "https://localhost:8080/"
    },
    "id": "3FPm-qixdX8p",
    "outputId": "200b4219-5fd1-460a-9780-ca651c4a0dde"
   },
   "outputs": [
    {
     "name": "stdout",
     "output_type": "stream",
     "text": [
      "pagina 1\n",
      "https://www.wtennis.com.br/tenis-masculino?limit=96&p=1\n",
      "pagina 2\n",
      "https://www.wtennis.com.br/tenis-masculino?limit=96&p=2\n",
      "pagina 3\n",
      "https://www.wtennis.com.br/tenis-masculino?limit=96&p=3\n",
      "pagina 4\n",
      "https://www.wtennis.com.br/tenis-masculino?limit=96&p=4\n",
      "pagina 5\n",
      "https://www.wtennis.com.br/tenis-masculino?limit=96&p=5\n",
      "pagina 7\n",
      "https://www.wtennis.com.br/tenis-masculino?limit=96&p=7\n",
      "pagina 8\n",
      "https://www.wtennis.com.br/tenis-masculino?limit=96&p=8\n"
     ]
    }
   ],
   "source": [
    "paginas = [1,2,3,4,5,7,8]\n",
    "for i in paginas: \n",
    "\n",
    "  print(f'pagina {i}')\n",
    "\n",
    "  driver.get(f'https://www.wtennis.com.br/tenis-masculino?limit=96&p={i}')\n",
    "  response = requests.get(f'https://www.wtennis.com.br/tenis-masculino?limit=96&p={i}')\n",
    "  soup = BeautifulSoup(response.text, 'html.parser')\n",
    "\n",
    "  for elemento in driver.find_elements_by_class_name('product-name'):\n",
    "    description.append(elemento.text)\n",
    "\n",
    "  for elemento in soup.find_all('span', itemprop='price'):\n",
    "    price.append(elemento.text)\n",
    "\n",
    "  for marca in soup.find_all('span', itemprop='brand'):\n",
    "    brand.append(marca.text)\n",
    "\n",
    "  print(driver.current_url)\n",
    "\n"
   ]
  },
  {
   "cell_type": "code",
   "execution_count": 9,
   "metadata": {
    "colab": {
     "base_uri": "https://localhost:8080/"
    },
    "id": "UtGRcuXq9A3u",
    "outputId": "6b605f24-f8c1-4279-fb8e-75665efd0670"
   },
   "outputs": [
    {
     "data": {
      "text/plain": [
       "['Tênis Mizuno Wave Prophecy X Masculino Corrida - Caminhada',\n",
       " '',\n",
       " 'Tênis Asics Raiden 2 Masculino Corrida - Caminhada',\n",
       " '',\n",
       " 'Tênis Mizuno Wave Sky 3 Masculino Corrida - Caminhada',\n",
       " '',\n",
       " 'Tênis Oxto Los Angeles Unissex Casual',\n",
       " '',\n",
       " 'Tênis New Balance Fresh Foam 1080 V10 Masculino Corrida - Caminhada',\n",
       " '',\n",
       " 'Tênis Under Armour Charged Essential Masculino Corrida - Caminhada',\n",
       " '',\n",
       " 'Tênis Vans Ward Masculino Skate',\n",
       " '',\n",
       " 'Tênis Olympikus Index Masculino Academia - Fitness',\n",
       " '',\n",
       " 'Tênis Asics Gel Shogun 2 Masculino Corrida - Caminhada',\n",
       " '',\n",
       " 'Tênis Olympikus Veloz Masculino Corrida - Caminhada',\n",
       " '',\n",
       " 'Tênis Asics Gel Shogun 3 Masculino Corrida - Caminhada',\n",
       " '',\n",
       " 'Tênis Under Armour Hovr Sonic 3 Masculino Corrida - Caminhada',\n",
       " '',\n",
       " 'Tênis Olympikus Twist Masculino Academia - Fitness',\n",
       " '',\n",
       " 'Tênis Under Armour Charged Extend Masculino Corrida - Caminhada',\n",
       " '',\n",
       " 'Tênis Skechers Go Run Fast Masculino Corrida - Caminhada',\n",
       " '',\n",
       " 'Tênis Under Armour Tribase Reign 2 Masculino Academia - Fitness',\n",
       " '',\n",
       " 'Tênis Olympikus Wellness Masculino Casual',\n",
       " '',\n",
       " 'Tênis Asics Gel Excite 8 Masculino Corrida - Caminhada',\n",
       " '',\n",
       " 'Tênis Olympikus Gravidade Masculino Academia - Fitness',\n",
       " '',\n",
       " 'Tênis Olympikus Cristal Masculino Corrida - Caminhada',\n",
       " '',\n",
       " 'Tênis Olympikus Stroke Masculino Academia - Fitness',\n",
       " '',\n",
       " 'Tênis Asics Gt 1000 10 Masculino Corrida - Caminhada',\n",
       " '',\n",
       " 'Tênis Olympikus Combate Masculino Corrida - Caminhada',\n",
       " '',\n",
       " 'Tênis Vans Ward Hi Masculino Casual',\n",
       " '',\n",
       " 'Tênis Mizuno Wave Prorunner 23 Masculino Corrida - Caminhada',\n",
       " '',\n",
       " 'Tênis Under Armour Hovr Rise Masculino Corrida - Caminhada',\n",
       " '',\n",
       " 'Tênis Mizuno Jet 4 Masculino Corrida - Caminhada',\n",
       " '',\n",
       " 'Tênis Under Armour Hovr Velociti 3 Masculino Corrida - Caminhada',\n",
       " '',\n",
       " 'Tênis Olympikus Holograma Masculino Corrida - Caminhada',\n",
       " '',\n",
       " 'Tênis Olympikus Proof 2 Masculino Casual',\n",
       " '',\n",
       " 'Tênis Vans Mn Filmore Masculino Skate',\n",
       " '',\n",
       " 'Tênis Mizuno Wave Prophecy 9 Masculino Corrida - Caminhada',\n",
       " '',\n",
       " 'Tênis Under Armour Hovr Infinite 2 Masculino Corrida - Caminhada',\n",
       " '',\n",
       " 'Tênis Olympikus Asas Masculino Corrida - Caminhada',\n",
       " '',\n",
       " 'Tênis Olympikus Ultraleve 205g Masculino Corrida - Caminhada',\n",
       " '',\n",
       " 'Tênis Everlast Bunker Masculino Corrida - Caminhada',\n",
       " '',\n",
       " 'Tênis Asics Gel Hypersonic Masculino Corrida - Caminhada',\n",
       " '',\n",
       " 'Tênis Olympikus Fourty Masculino Academia - Fitness',\n",
       " '',\n",
       " 'Tênis Olympikus Molecula Unissex Casual',\n",
       " '',\n",
       " 'Tênis Puma Pacer Future Masculino Corrida - Caminhada',\n",
       " '',\n",
       " 'Tênis Vans Atwood Canvas Masculino Skate',\n",
       " '',\n",
       " 'Tênis Olympikus Corre 1 Masculino Corrida - Caminhada',\n",
       " '',\n",
       " 'Tênis Asics Gel Task 2 Masculino Vôlei',\n",
       " '',\n",
       " 'Tênis Vans Doheny Masculino Skate',\n",
       " '',\n",
       " 'Tênis Asics Dynablast Masculino Corrida - Caminhada',\n",
       " '',\n",
       " 'Tênis Olympikus Dynamic Masculino Academia - Fitness',\n",
       " '',\n",
       " 'Tênis Mizuno Space Masculino Corrida - Caminhada',\n",
       " '',\n",
       " 'Tênis Skechers Go Speed Trail Masculino Aventura - Trail',\n",
       " '',\n",
       " 'Tênis Puma Comet 2 Masculino Corrida - Caminhada',\n",
       " '',\n",
       " 'Tênis Under Armour Hovr Apex Masculino Academia - Fitness',\n",
       " '',\n",
       " 'Tênis Mizuno Enerzy Unissex Corrida - Caminhada',\n",
       " '',\n",
       " 'Tênis Olympikus Reação Masculino Academia - Fitness',\n",
       " '',\n",
       " 'Tênis Puma Flyer Runner Masculino Corrida - Caminhada',\n",
       " '',\n",
       " 'Tênis Mizuno Hawk 3 Masculino Corrida - Caminhada',\n",
       " '',\n",
       " 'Tênis Olympikus Vetor Masculino Academia - Fitness',\n",
       " '',\n",
       " 'Tênis Mizuno Wave Frontier 12 Masculino Corrida - Caminhada',\n",
       " '',\n",
       " 'Tênis Under Armour Charged Prospect Masculino Casual',\n",
       " '',\n",
       " 'Tênis Olympikus Fibra Masculino Corrida - Caminhada',\n",
       " '',\n",
       " 'Tênis Skechers Go Run 7+ Masculino Corrida - Caminhada',\n",
       " '',\n",
       " 'Tênis Olympikus Astro Masculino Casual',\n",
       " '',\n",
       " 'Tênis Saucony Guide Iso Masculino Corrida - Caminhada',\n",
       " '',\n",
       " 'Tênis Olympikus Tropico Masculino Corrida - Caminhada',\n",
       " '',\n",
       " 'Tênis Skechers Go Run Razor Masculino Corrida - Caminhada',\n",
       " '',\n",
       " 'Tênis Vans Filmore Decon Masculino Skate',\n",
       " '',\n",
       " 'Tênis Vans Seldan Masculino Casual',\n",
       " '',\n",
       " 'Tênis Olympikus Atomo Masculino Academia - Fitness',\n",
       " '',\n",
       " 'Tênis Olympikus Triunfo Masculino Academia - Fitness',\n",
       " '',\n",
       " 'Tênis Puma Mercedes Future Kart Cat Masculino Casual',\n",
       " '',\n",
       " 'Tênis Mizuno Action Masculino Corrida - Caminhada',\n",
       " '',\n",
       " 'Tênis Puma Wired Unissex Corrida - Caminhada',\n",
       " '',\n",
       " 'Tênis Fila Cage Python Masculino Corrida - Caminhada',\n",
       " '',\n",
       " 'Tênis Olympikus Jogging 100 Masculino Casual',\n",
       " '',\n",
       " 'Tênis Fila 88 Masculino Casual',\n",
       " '',\n",
       " 'Tênis Skechers Go Walk 5 Masculino Casual',\n",
       " '',\n",
       " 'Tênis Skechers Equalizer 4.0 Trail Masculino Aventura - Trail',\n",
       " '',\n",
       " 'Tênis Oxto Los Angeles Lona Unissex Casual',\n",
       " '',\n",
       " 'Tênis Skechers Go Ride 8 Masculino Corrida - Caminhada',\n",
       " '',\n",
       " 'Tênis Puma Hybrid Nx Ozone Masculino Corrida - Caminhada',\n",
       " '',\n",
       " 'Tênis Olympikus Energia Masculino Academia - Fitness',\n",
       " '',\n",
       " 'Tênis Asics Gel-Pacemaker Masculino Corrida - Caminhada',\n",
       " '',\n",
       " 'Tênis Puma St Runner V2 Mesh Unissex Casual',\n",
       " '',\n",
       " 'Tênis Puma Hybrid Runner V2 Unissex Corrida - Caminhada',\n",
       " '',\n",
       " 'Tênis Mizuno Wave Sky Rise Masculino Corrida - Caminhada',\n",
       " '',\n",
       " 'Tênis Fila Kenya Racer Kr5 Masculino Corrida - Caminhada',\n",
       " '',\n",
       " 'Tênis Olympikus Manobra Masculino Casual',\n",
       " '',\n",
       " 'Tênis Olympikus Fluxo Masculino Academia - Fitness',\n",
       " '',\n",
       " 'Tênis Asics Gel Venture 8 Masculino Aventura - Trail',\n",
       " '',\n",
       " 'Tênis Olympikus Cs Urban Masculino Casual',\n",
       " '',\n",
       " 'Tênis Puma Viz Runner Bdp Masculino Casual',\n",
       " '',\n",
       " 'Tênis Olympikus Cs1 Unissex Casual',\n",
       " '',\n",
       " 'Tênis Fila Racer Motion Masculino Corrida - Caminhada',\n",
       " '',\n",
       " 'Tênis Olympikus Quasar Masculino Casual',\n",
       " '',\n",
       " 'Limpa Tênis Acessorios Wt Unissex Casual',\n",
       " '',\n",
       " 'Tênis Skechers Go Trail Jackrabbit Masculino Aventura - Trail',\n",
       " '',\n",
       " 'Tênis Fila Move On Masculino Casual',\n",
       " '',\n",
       " 'Tênis Skechers Solar Fuse Valedge Masculino Corrida - Caminhada',\n",
       " '']"
      ]
     },
     "execution_count": 9,
     "metadata": {
      "tags": []
     },
     "output_type": "execute_result"
    }
   ],
   "source": [
    "description[0:192]"
   ]
  },
  {
   "cell_type": "markdown",
   "metadata": {
    "id": "c2sp5tHHV7Fv"
   },
   "source": [
    "# Criando o DataFrame"
   ]
  },
  {
   "cell_type": "code",
   "execution_count": 10,
   "metadata": {
    "id": "RvXEyWG6-GHu"
   },
   "outputs": [],
   "source": [
    "df_shoes = pd.DataFrame ([description, price]).T\n"
   ]
  },
  {
   "cell_type": "code",
   "execution_count": 11,
   "metadata": {
    "id": "Wx6u5LFM-VWm"
   },
   "outputs": [],
   "source": [
    "df_shoes.columns = ['item','price']\n"
   ]
  },
  {
   "cell_type": "code",
   "execution_count": 12,
   "metadata": {
    "id": "eEWC23TUMkxU"
   },
   "outputs": [],
   "source": [
    "# Na coleta dos dados via driver do selenium os dados vieram duplicados, \n",
    "# para corrigir no Dataframe, criei uma lista com números ímpares para dropar do index do DF\n",
    "impares = []\n",
    "for c in range (1,len(price),2):\n",
    "  impares.append(c)"
   ]
  },
  {
   "cell_type": "code",
   "execution_count": 13,
   "metadata": {
    "id": "qnAhz_nbLGus"
   },
   "outputs": [],
   "source": [
    "# Dropando o Indice Impar \n",
    "df_shoes = df_shoes.drop(impares)"
   ]
  },
  {
   "cell_type": "code",
   "execution_count": 14,
   "metadata": {
    "id": "6RMOVnzbNKdx"
   },
   "outputs": [],
   "source": [
    "# Adicionando a Marca ao DF\n",
    "df_shoes['brand'] = brand"
   ]
  },
  {
   "cell_type": "code",
   "execution_count": 15,
   "metadata": {
    "colab": {
     "base_uri": "https://localhost:8080/",
     "height": 204
    },
    "id": "5N9vgcnUVrxb",
    "outputId": "5d23a2f7-d7cd-40d6-ddab-8a23bb90cf76"
   },
   "outputs": [
    {
     "data": {
      "text/html": [
       "<div>\n",
       "<style scoped>\n",
       "    .dataframe tbody tr th:only-of-type {\n",
       "        vertical-align: middle;\n",
       "    }\n",
       "\n",
       "    .dataframe tbody tr th {\n",
       "        vertical-align: top;\n",
       "    }\n",
       "\n",
       "    .dataframe thead th {\n",
       "        text-align: right;\n",
       "    }\n",
       "</style>\n",
       "<table border=\"1\" class=\"dataframe\">\n",
       "  <thead>\n",
       "    <tr style=\"text-align: right;\">\n",
       "      <th></th>\n",
       "      <th>item</th>\n",
       "      <th>price</th>\n",
       "      <th>brand</th>\n",
       "    </tr>\n",
       "  </thead>\n",
       "  <tbody>\n",
       "    <tr>\n",
       "      <th>0</th>\n",
       "      <td>Tênis Mizuno Wave Prophecy X Masculino Corrida...</td>\n",
       "      <td>1 499.90</td>\n",
       "      <td>MIZUNO</td>\n",
       "    </tr>\n",
       "    <tr>\n",
       "      <th>2</th>\n",
       "      <td>Tênis Asics Raiden 2 Masculino Corrida - Camin...</td>\n",
       "      <td>249.90</td>\n",
       "      <td>ASICS</td>\n",
       "    </tr>\n",
       "    <tr>\n",
       "      <th>4</th>\n",
       "      <td>Tênis Mizuno Wave Sky 3 Masculino Corrida - Ca...</td>\n",
       "      <td>479.90</td>\n",
       "      <td>MIZUNO</td>\n",
       "    </tr>\n",
       "    <tr>\n",
       "      <th>6</th>\n",
       "      <td>Tênis Oxto Los Angeles Unissex Casual</td>\n",
       "      <td>79.90</td>\n",
       "      <td>OXTO</td>\n",
       "    </tr>\n",
       "    <tr>\n",
       "      <th>8</th>\n",
       "      <td>Tênis New Balance Fresh Foam 1080 V10 Masculin...</td>\n",
       "      <td>899.90</td>\n",
       "      <td>NEW BALANCE</td>\n",
       "    </tr>\n",
       "  </tbody>\n",
       "</table>\n",
       "</div>"
      ],
      "text/plain": [
       "                                                item     price        brand\n",
       "0  Tênis Mizuno Wave Prophecy X Masculino Corrida...  1 499.90       MIZUNO\n",
       "2  Tênis Asics Raiden 2 Masculino Corrida - Camin...    249.90        ASICS\n",
       "4  Tênis Mizuno Wave Sky 3 Masculino Corrida - Ca...    479.90       MIZUNO\n",
       "6              Tênis Oxto Los Angeles Unissex Casual     79.90         OXTO\n",
       "8  Tênis New Balance Fresh Foam 1080 V10 Masculin...    899.90  NEW BALANCE"
      ]
     },
     "execution_count": 15,
     "metadata": {
      "tags": []
     },
     "output_type": "execute_result"
    }
   ],
   "source": [
    "# Criando o Dataframe Final\n",
    "df_men = df_shoes\n",
    "df_men.head()"
   ]
  },
  {
   "cell_type": "code",
   "execution_count": 16,
   "metadata": {
    "id": "1DiLRaV5EYtu"
   },
   "outputs": [],
   "source": [
    "df_men['price'] = df_men['price'].str.replace(' ', '')"
   ]
  },
  {
   "cell_type": "code",
   "execution_count": 17,
   "metadata": {
    "colab": {
     "base_uri": "https://localhost:8080/"
    },
    "id": "N5QxpiMKRQBR",
    "outputId": "d632ceef-8058-4628-ed25-8385bf6b40a8"
   },
   "outputs": [
    {
     "data": {
      "text/plain": [
       "0       1499.9\n",
       "2        249.9\n",
       "4        479.9\n",
       "6         79.9\n",
       "8        899.9\n",
       "         ...  \n",
       "1040     119.9\n",
       "1042      89.9\n",
       "1044      89.9\n",
       "1046      39.9\n",
       "1048      29.9\n",
       "Name: price, Length: 525, dtype: float64"
      ]
     },
     "execution_count": 17,
     "metadata": {
      "tags": []
     },
     "output_type": "execute_result"
    }
   ],
   "source": [
    "df_men['price'].astype(float)"
   ]
  },
  {
   "cell_type": "code",
   "execution_count": null,
   "metadata": {
    "id": "GLpo4WC0HQlh"
   },
   "outputs": [],
   "source": [
    "df_men.head()"
   ]
  },
  {
   "cell_type": "code",
   "execution_count": 18,
   "metadata": {
    "id": "lldnn9NFRXfe"
   },
   "outputs": [],
   "source": [
    "df_men.to_csv('/content/sample_data/df_men')"
   ]
  },
  {
   "cell_type": "markdown",
   "metadata": {
    "id": "AnquZh2TR7Q1"
   },
   "source": [
    "# Subindo Dados Crawlados CSV para um Banco da AWS"
   ]
  },
  {
   "cell_type": "code",
   "execution_count": 23,
   "metadata": {
    "id": "4bZe4G0RSCXR"
   },
   "outputs": [],
   "source": [
    "aws_access_key_id=\"#################\"\n",
    "aws_secret_access_key=\"#################\"\n",
    "aws_session_token=\"#################\"\n"
   ]
  },
  {
   "cell_type": "code",
   "execution_count": 24,
   "metadata": {
    "colab": {
     "base_uri": "https://localhost:8080/"
    },
    "id": "RiHi7UVASknO",
    "outputId": "c2ad5cb1-8772-494e-e59d-231becd91fa5"
   },
   "outputs": [
    {
     "data": {
      "text/plain": [
       "<sqlalchemy.engine.base.Connection at 0x7fef9b0b3fd0>"
      ]
     },
     "execution_count": 24,
     "metadata": {
      "tags": []
     },
     "output_type": "execute_result"
    }
   ],
   "source": [
    "server = \"#################\" \n",
    "database =  \"#################\"\n",
    "username =  \"#################\"\n",
    "password =  \"#################\"\n",
    "con1 = f\"mssql+pyodbc://{username}:{password}@{server}/{database}?driver=ODBC Driver 17 for SQL Server\"\n",
    "engine = sqlalchemy.create_engine(con1)\n",
    "engine.connect()"
   ]
  },
  {
   "cell_type": "code",
   "execution_count": 25,
   "metadata": {
    "id": "VNTY72M8c-rF"
   },
   "outputs": [],
   "source": [
    "#CRIANDO DATA FRAME PARA CADA TABELA DO SQL SERVER\n",
    "df_men.to_sql((\"Tenis\"),engine,if_exists = \"replace\")"
   ]
  },
  {
   "cell_type": "markdown",
   "metadata": {
    "id": "SwhIcMywckZL"
   },
   "source": [
    "Recuperando os dados do banco e criando visualização utilizando o plotly."
   ]
  },
  {
   "cell_type": "code",
   "execution_count": 26,
   "metadata": {
    "colab": {
     "base_uri": "https://localhost:8080/"
    },
    "id": "j6QWt1vLc-iq",
    "outputId": "b141846a-c94b-4b0d-e9ba-3470cb213727"
   },
   "outputs": [
    {
     "name": "stdout",
     "output_type": "stream",
     "text": [
      "     index  ...             brand\n",
      "0        0  ...            MIZUNO\n",
      "1        2  ...             ASICS\n",
      "2        4  ...            MIZUNO\n",
      "3        6  ...              OXTO\n",
      "4        8  ...       NEW BALANCE\n",
      "..     ...  ...               ...\n",
      "520   1040  ...       RETRO MANIA\n",
      "521   1042  ...   Maquete Oficial\n",
      "522   1044  ...   Maquete Oficial\n",
      "523   1046  ...  MUSEU DO FUTEBOL\n",
      "524   1048  ...  MUSEU DO FUTEBOL\n",
      "\n",
      "[525 rows x 4 columns]\n"
     ]
    }
   ],
   "source": [
    "# leitura da query que estão dentro do banco de dados, que criamos no engine.\n",
    "df_schema = pd.read_sql_query(sql= 'SELECT * FROM Tenis',con=engine)\n",
    "print(df_schema)"
   ]
  },
  {
   "cell_type": "code",
   "execution_count": 27,
   "metadata": {
    "id": "EWVm6wmqrK1W"
   },
   "outputs": [],
   "source": [
    "df_shoes_AWS = pd.DataFrame (df_schema)"
   ]
  },
  {
   "cell_type": "code",
   "execution_count": 28,
   "metadata": {
    "colab": {
     "base_uri": "https://localhost:8080/",
     "height": 419
    },
    "id": "ZKH3ak2rrYTK",
    "outputId": "9b27f2c2-8fc5-462f-a4e3-3a750093ee4c"
   },
   "outputs": [
    {
     "data": {
      "text/html": [
       "<div>\n",
       "<style scoped>\n",
       "    .dataframe tbody tr th:only-of-type {\n",
       "        vertical-align: middle;\n",
       "    }\n",
       "\n",
       "    .dataframe tbody tr th {\n",
       "        vertical-align: top;\n",
       "    }\n",
       "\n",
       "    .dataframe thead th {\n",
       "        text-align: right;\n",
       "    }\n",
       "</style>\n",
       "<table border=\"1\" class=\"dataframe\">\n",
       "  <thead>\n",
       "    <tr style=\"text-align: right;\">\n",
       "      <th></th>\n",
       "      <th>index</th>\n",
       "      <th>item</th>\n",
       "      <th>price</th>\n",
       "      <th>brand</th>\n",
       "    </tr>\n",
       "  </thead>\n",
       "  <tbody>\n",
       "    <tr>\n",
       "      <th>0</th>\n",
       "      <td>0</td>\n",
       "      <td>Tênis Mizuno Wave Prophecy X Masculino Corrida...</td>\n",
       "      <td>1499.90</td>\n",
       "      <td>MIZUNO</td>\n",
       "    </tr>\n",
       "    <tr>\n",
       "      <th>1</th>\n",
       "      <td>2</td>\n",
       "      <td>Tênis Asics Raiden 2 Masculino Corrida - Camin...</td>\n",
       "      <td>249.90</td>\n",
       "      <td>ASICS</td>\n",
       "    </tr>\n",
       "    <tr>\n",
       "      <th>2</th>\n",
       "      <td>4</td>\n",
       "      <td>Tênis Mizuno Wave Sky 3 Masculino Corrida - Ca...</td>\n",
       "      <td>479.90</td>\n",
       "      <td>MIZUNO</td>\n",
       "    </tr>\n",
       "    <tr>\n",
       "      <th>3</th>\n",
       "      <td>6</td>\n",
       "      <td>Tênis Oxto Los Angeles Unissex Casual</td>\n",
       "      <td>79.90</td>\n",
       "      <td>OXTO</td>\n",
       "    </tr>\n",
       "    <tr>\n",
       "      <th>4</th>\n",
       "      <td>8</td>\n",
       "      <td>Tênis New Balance Fresh Foam 1080 V10 Masculin...</td>\n",
       "      <td>899.90</td>\n",
       "      <td>NEW BALANCE</td>\n",
       "    </tr>\n",
       "    <tr>\n",
       "      <th>...</th>\n",
       "      <td>...</td>\n",
       "      <td>...</td>\n",
       "      <td>...</td>\n",
       "      <td>...</td>\n",
       "    </tr>\n",
       "    <tr>\n",
       "      <th>520</th>\n",
       "      <td>1040</td>\n",
       "      <td>Camiseta Masc. Retro Mania Portuguesa - Especi...</td>\n",
       "      <td>119.90</td>\n",
       "      <td>RETRO MANIA</td>\n",
       "    </tr>\n",
       "    <tr>\n",
       "      <th>521</th>\n",
       "      <td>1042</td>\n",
       "      <td>Maquete Oficial Laranjeiras Unissex Esporte - ...</td>\n",
       "      <td>89.90</td>\n",
       "      <td>Maquete Oficial</td>\n",
       "    </tr>\n",
       "    <tr>\n",
       "      <th>522</th>\n",
       "      <td>1044</td>\n",
       "      <td>Maquete Oficial Vila Belmiro Unissex Esporte -...</td>\n",
       "      <td>89.90</td>\n",
       "      <td>Maquete Oficial</td>\n",
       "    </tr>\n",
       "    <tr>\n",
       "      <th>523</th>\n",
       "      <td>1046</td>\n",
       "      <td>Squeeze Museu Do Futebol 500 Ml Unissex Esport...</td>\n",
       "      <td>39.90</td>\n",
       "      <td>MUSEU DO FUTEBOL</td>\n",
       "    </tr>\n",
       "    <tr>\n",
       "      <th>524</th>\n",
       "      <td>1048</td>\n",
       "      <td>Caneca Museu Do Futebol Porcelana 300 Ml Uniss...</td>\n",
       "      <td>29.90</td>\n",
       "      <td>MUSEU DO FUTEBOL</td>\n",
       "    </tr>\n",
       "  </tbody>\n",
       "</table>\n",
       "<p>525 rows × 4 columns</p>\n",
       "</div>"
      ],
      "text/plain": [
       "     index  ...             brand\n",
       "0        0  ...            MIZUNO\n",
       "1        2  ...             ASICS\n",
       "2        4  ...            MIZUNO\n",
       "3        6  ...              OXTO\n",
       "4        8  ...       NEW BALANCE\n",
       "..     ...  ...               ...\n",
       "520   1040  ...       RETRO MANIA\n",
       "521   1042  ...   Maquete Oficial\n",
       "522   1044  ...   Maquete Oficial\n",
       "523   1046  ...  MUSEU DO FUTEBOL\n",
       "524   1048  ...  MUSEU DO FUTEBOL\n",
       "\n",
       "[525 rows x 4 columns]"
      ]
     },
     "execution_count": 28,
     "metadata": {
      "tags": []
     },
     "output_type": "execute_result"
    }
   ],
   "source": [
    "df_shoes_AWS"
   ]
  },
  {
   "cell_type": "markdown",
   "metadata": {
    "id": "UbjzcI7ljobU"
   },
   "source": [
    "GRAFICOS:"
   ]
  },
  {
   "cell_type": "code",
   "execution_count": 19,
   "metadata": {
    "colab": {
     "base_uri": "https://localhost:8080/",
     "height": 170
    },
    "id": "cY5X9PnVirMs",
    "outputId": "70c86f87-a8b5-4064-9ad7-a4f01a268c41"
   },
   "outputs": [
    {
     "data": {
      "text/html": [
       "        <script type=\"text/javascript\">\n",
       "        window.PlotlyConfig = {MathJaxConfig: 'local'};\n",
       "        if (window.MathJax) {MathJax.Hub.Config({SVG: {font: \"STIX-Web\"}});}\n",
       "        if (typeof require !== 'undefined') {\n",
       "        require.undef(\"plotly\");\n",
       "        requirejs.config({\n",
       "            paths: {\n",
       "                'plotly': ['https://cdn.plot.ly/plotly-latest.min']\n",
       "            }\n",
       "        });\n",
       "        require(['plotly'], function(Plotly) {\n",
       "            window._Plotly = Plotly;\n",
       "        });\n",
       "        }\n",
       "        </script>\n",
       "        "
      ]
     },
     "metadata": {
      "tags": []
     },
     "output_type": "display_data"
    },
    {
     "data": {
      "text/html": [
       "        <script type=\"text/javascript\">\n",
       "        window.PlotlyConfig = {MathJaxConfig: 'local'};\n",
       "        if (window.MathJax) {MathJax.Hub.Config({SVG: {font: \"STIX-Web\"}});}\n",
       "        if (typeof require !== 'undefined') {\n",
       "        require.undef(\"plotly\");\n",
       "        requirejs.config({\n",
       "            paths: {\n",
       "                'plotly': ['https://cdn.plot.ly/plotly-latest.min']\n",
       "            }\n",
       "        });\n",
       "        require(['plotly'], function(Plotly) {\n",
       "            window._Plotly = Plotly;\n",
       "        });\n",
       "        }\n",
       "        </script>\n",
       "        "
      ]
     },
     "metadata": {
      "tags": []
     },
     "output_type": "display_data"
    },
    {
     "data": {
      "text/plain": [
       "Renderers configuration\n",
       "-----------------------\n",
       "    Default renderer: 'plotly_mimetype+notebook_connected'\n",
       "    Available renderers:\n",
       "        ['plotly_mimetype', 'jupyterlab', 'nteract', 'vscode',\n",
       "         'notebook', 'notebook_connected', 'kaggle', 'azure', 'colab',\n",
       "         'cocalc', 'databricks', 'json', 'png', 'jpeg', 'jpg', 'svg',\n",
       "         'pdf', 'browser', 'firefox', 'chrome', 'chromium', 'iframe',\n",
       "         'iframe_connected', 'sphinx_gallery']"
      ]
     },
     "execution_count": 19,
     "metadata": {
      "tags": []
     },
     "output_type": "execute_result"
    }
   ],
   "source": [
    "import pandas as pd\n",
    "import plotly\n",
    "import plotly.offline as py\n",
    "import plotly.graph_objs as go\n",
    "from plotly.offline import plot, iplot\n",
    "import cufflinks as cf\n",
    "cf.go_offline()\n",
    "plotly.offline.init_notebook_mode(connected = True)\n",
    "import plotly.io as pio\n",
    "pio.renderers"
   ]
  },
  {
   "cell_type": "code",
   "execution_count": 29,
   "metadata": {
    "id": "pVhr7EGgxOzu"
   },
   "outputs": [],
   "source": [
    "pio.renderers.default = 'colab'"
   ]
  },
  {
   "cell_type": "code",
   "execution_count": 30,
   "metadata": {
    "colab": {
     "base_uri": "https://localhost:8080/",
     "height": 542
    },
    "collapsed": true,
    "id": "R3N5xRznqJOg",
    "outputId": "f82eafcc-d234-453a-baa5-77cf4143f008"
   },
   "outputs": [
    {
     "data": {
      "text/html": [
       "<html>\n",
       "<head><meta charset=\"utf-8\" /></head>\n",
       "<body>\n",
       "    <div>\n",
       "            <script src=\"https://cdnjs.cloudflare.com/ajax/libs/mathjax/2.7.5/MathJax.js?config=TeX-AMS-MML_SVG\"></script><script type=\"text/javascript\">if (window.MathJax) {MathJax.Hub.Config({SVG: {font: \"STIX-Web\"}});}</script>\n",
       "                <script type=\"text/javascript\">window.PlotlyConfig = {MathJaxConfig: 'local'};</script>\n",
       "        <script src=\"https://cdn.plot.ly/plotly-latest.min.js\"></script>    \n",
       "            <div id=\"be263cfb-316f-404e-82ea-ad4f32e0651c\" class=\"plotly-graph-div\" style=\"height:525px; width:100%;\"></div>\n",
       "            <script type=\"text/javascript\">\n",
       "                \n",
       "                    window.PLOTLYENV=window.PLOTLYENV || {};\n",
       "                    window.PLOTLYENV.BASE_URL='https://plot.ly';\n",
       "                    \n",
       "                if (document.getElementById(\"be263cfb-316f-404e-82ea-ad4f32e0651c\")) {\n",
       "                    Plotly.newPlot(\n",
       "                        'be263cfb-316f-404e-82ea-ad4f32e0651c',\n",
       "                        [{\"line\": {\"color\": \"rgba(255, 153, 51, 1.0)\", \"dash\": \"solid\", \"shape\": \"linear\", \"width\": 1.3}, \"marker\": {\"size\": 12, \"symbol\": \"circle\"}, \"mode\": \"markers\", \"name\": \"price\", \"text\": \"\", \"type\": \"scatter\", \"x\": [\"MIZUNO\", \"ASICS\", \"MIZUNO\", \"OXTO\", \"NEW BALANCE\", \"UNDER ARMOUR\", \"VANS\", \"OLYMPIKUS\", \"ASICS\", \"OLYMPIKUS\", \"ASICS\", \"UNDER ARMOUR\", \"OLYMPIKUS\", \"UNDER ARMOUR\", \"SKECHERS\", \"UNDER ARMOUR\", \"OLYMPIKUS\", \"ASICS\", \"OLYMPIKUS\", \"OLYMPIKUS\", \"OLYMPIKUS\", \"ASICS\", \"OLYMPIKUS\", \"VANS\", \"MIZUNO\", \"UNDER ARMOUR\", \"MIZUNO\", \"UNDER ARMOUR\", \"OLYMPIKUS\", \"OLYMPIKUS\", \"VANS\", \"MIZUNO\", \"UNDER ARMOUR\", \"OLYMPIKUS\", \"OLYMPIKUS\", \"EVERLAST\", \"ASICS\", \"OLYMPIKUS\", \"OLYMPIKUS\", \"PUMA\", \"VANS\", \"OLYMPIKUS\", \"ASICS\", \"VANS\", \"ASICS\", \"OLYMPIKUS\", \"MIZUNO\", \"SKECHERS\", \"PUMA\", \"UNDER ARMOUR\", \"MIZUNO\", \"OLYMPIKUS\", \"PUMA\", \"MIZUNO\", \"OLYMPIKUS\", \"MIZUNO\", \"UNDER ARMOUR\", \"OLYMPIKUS\", \"SKECHERS\", \"OLYMPIKUS\", \"Saucony\", \"OLYMPIKUS\", \"SKECHERS\", \"VANS\", \"VANS\", \"OLYMPIKUS\", \"OLYMPIKUS\", \"PUMA\", \"MIZUNO\", \"PUMA\", \"FILA\", \"OLYMPIKUS\", \"FILA\", \"SKECHERS\", \"SKECHERS\", \"OXTO\", \"SKECHERS\", \"PUMA\", \"OLYMPIKUS\", \"ASICS\", \"PUMA\", \"PUMA\", \"MIZUNO\", \"FILA\", \"OLYMPIKUS\", \"OLYMPIKUS\", \"ASICS\", \"OLYMPIKUS\", \"PUMA\", \"OLYMPIKUS\", \"FILA\", \"OLYMPIKUS\", \"ACESSORIOS\", \"SKECHERS\", \"FILA\", \"SKECHERS\", \"ASICS\", \"ASICS\", \"MIZUNO\", \"OLYMPIKUS\", \"FILA\", \"FILA\", \"MIZUNO\", \"OLYMPIKUS\", \"ASICS\", \"DEMOCRATA\", \"PUMA\", \"FILA\", \"VANS\", \"NEW BALANCE\", \"PUMA\", \"PUMA\", \"MIZUNO\", \"FILA\", \"MIZUNO\", \"PUMA\", \"VANS\", \"PUMA\", \"FILA\", \"NEW BALANCE\", \"ASICS\", \"Saucony\", \"MIZUNO\", \"OXTO\", \"ASICS\", \"PUMA\", \"SKECHERS\", \"OLYMPIKUS\", \"MIZUNO\", \"UNDER ARMOUR\", \"MIZUNO\", \"FILA\", \"ASICS\", \"MIZUNO\", \"NEW BALANCE\", \"MIZUNO\", \"ASICS\", \"MIZUNO\", \"MIZUNO\", \"MIZUNO\", \"UNDER ARMOUR\", \"FILA\", \"OLYMPIKUS\", \"ASICS\", \"PUMA\", \"ASICS\", \"OLYMPIKUS\", \"OLYMPIKUS\", \"MIZUNO\", \"ASICS\", \"OLYMPIKUS\", \"NEW BALANCE\", \"UNDER ARMOUR\", \"NEW BALANCE\", \"FILA\", \"ASICS\", \"FILA\", \"FILA\", \"ASICS\", \"FILA\", \"OXTO\", \"ASICS\", \"OXTO\", \"MIZUNO\", \"OXTO\", \"UNDER ARMOUR\", \"FILA\", \"FILA\", \"OXTO\", \"FILA\", \"OXTO\", \"SKECHERS\", \"FILA\", \"SKECHERS\", \"ASICS\", \"UNDER ARMOUR\", \"VANS\", \"FILA\", \"ASICS\", \"SKECHERS\", \"OLYMPIKUS\", \"UNDER ARMOUR\", \"NEW BALANCE\", \"ASICS\", \"ASICS\", \"FILA\", \"DIADORA\", \"FILA\", \"OXTO\", \"SALOMON\", \"OLYMPIKUS\", \"OXTO\", \"RETRO MANIA\", \"FILA\", \"DEMOCRATA\", \"OAKLEY\", \"ASICS\", \"UNDER ARMOUR\", \"PUMA\", \"ASICS\", \"Penalty\", \"VANS\", \"VANS\", \"FILA\", \"NEW BALANCE\", \"UNDER ARMOUR\", \"NEW BALANCE\", \"DEMOCRATA\", \"ASICS\", \"DEMOCRATA\", \"PUMA\", \"MIZUNO\", \"SALOMON\", \"OLYMPIKUS\", \"OXTO\", \"PUMA\", \"UNDER ARMOUR\", \"OXTO\", \"DIADORA\", \"MIZUNO\", \"NEW BALANCE\", \"AQURUN\", \"OXTO\", \"FILA\", \"UNDER ARMOUR\", \"MIZUNO\", \"OXTO\", \"MIZUNO\", \"OLYMPIKUS\", \"MIZUNO\", \"OLYMPIKUS\", \"OLYMPIKUS\", \"UNDER ARMOUR\", \"FILA\", \"FILA\", \"OXTO\", \"OLYMPIKUS\", \"SALOMON\", \"FILA\", \"MIZUNO\", \"NEW BALANCE\", \"OXTO\", \"SALOMON\", \"OLYMPIKUS\", \"FILA\", \"OXTO\", \"ASICS\", \"PUMA\", \"PUMA\", \"DEMOCRATA\", \"FIBER\", \"ASICS\", \"SKECHERS\", \"FILA\", \"OLYMPIKUS\", \"DIADORA\", \"XERIUS\", \"Osklen\", \"PUMA\", \"SALOMON\", \"MIZUNO\", \"NEW BALANCE\", \"VANS\", \"NEW BALANCE\", \"OLYMPIKUS\", \"RETRO MANIA\", \"SKECHERS\", \"ASICS\", \"SKECHERS\", \"RETRO MANIA\", \"OAKLEY\", \"DIADORA\", \"PUMA\", \"PUMA\", \"NEW BALANCE\", \"VANS\", \"DIADORA\", \"PUMA\", \"UNDER ARMOUR\", \"EVERLAST\", \"FILA\", \"PUMA\", \"MELTEX\", \"NEW BALANCE\", \"OLYMPIKUS\", \"RETRO MANIA\", \"Penalty\", \"OLYMPIKUS\", \"DIADORA\", \"SKECHERS\", \"FILA\", \"DIADORA\", \"PUMA\", \"ASICS\", \"XERIUS\", \"OLYMPIKUS\", \"NEW BALANCE\", \"FILA\", \"SALOMON\", \"PUMA\", \"OXTO\", \"UNDER ARMOUR\", \"MIZUNO\", \"PUMA\", \"RETRO MANIA\", \"ACESSORIOS\", \"PUMA\", \"Osklen\", \"PUMA\", \"RETRO MANIA\", \"ACESSORIOS\", \"SKECHERS\", \"UNDER ARMOUR\", \"SALOMON\", \"RETRO MANIA\", \"MIZUNO\", \"VANS\", \"OLYMPIKUS\", \"RETRO MANIA\", \"VANS\", \"MIZUNO\", \"Petroplus\", \"VANS\", \"VANS\", \"OXTO\", \"RETRO MANIA\", \"VANS\", \"VANS\", \"VANS\", \"OLYMPIKUS\", \"OAKLEY\", \"RETRO MANIA\", \"UMBRO\", \"DEMOCRATA\", \"DEMOCRATA\", \"DEMOCRATA\", \"DEMOCRATA\", \"DEMOCRATA\", \"MIZUNO\", \"DEMOCRATA\", \"DEMOCRATA\", \"MIZUNO\", \"FILA\", \"FILA\", \"FILA\", \"FILA\", \"UNDER ARMOUR\", \"UNDER ARMOUR\", \"UNDER ARMOUR\", \"OAKLEY\", \"UNDER ARMOUR\", \"UNDER ARMOUR\", \"UNDER ARMOUR\", \"VANS\", \"ASICS\", \"RETRO MANIA\", \"RETRO MANIA\", \"SALOMON\", \"VANS\", \"FILA\", \"FILA\", \"FILA\", \"UNDER ARMOUR\", \"UNDER ARMOUR\", \"UNDER ARMOUR\", \"VANS\", \"NEW BALANCE\", \"VANS\", \"RETRO MANIA\", \"RETRO MANIA\", \"RETRO MANIA\", \"NEW ERA\", \"NEW ERA\", \"NEW ERA\", \"NEW ERA\", \"NEW ERA\", \"PUMA\", \"VANS\", \"PUMA\", \"UMBRO\", \"UMBRO\", \"SPR\", \"SPR\", \"SPR\", \"SPR\", \"RETRO MANIA\", \"RETRO MANIA\", \"RETRO MANIA\", \"RETRO MANIA\", \"RETRO MANIA\", \"RETRO MANIA\", \"RETRO MANIA\", \"RETRO MANIA\", \"UNDER ARMOUR\", \"UNDER ARMOUR\", \"UNDER ARMOUR\", \"RETRO MANIA\", \"RETRO MANIA\", \"RETRO MANIA\", \"RETRO MANIA\", \"RETRO MANIA\", \"VANS\", \"VANS\", \"Sao Paulo Mania\", \"MUSEU DO FUTEBOL\", \"MUSEU DO FUTEBOL\", \"DIVERSOS\", \"MIZUNO\", \"OXTO\", \"VANS\", \"XERIUS\", \"XERIUS\", \"XERIUS\", \"XERIUS\", \"XERIUS\", \"XERIUS\", \"XERIUS\", \"VANS\", \"VANS\", \"UMBRO\", \"RETRO MANIA\", \"RETRO MANIA\", \"RETRO MANIA\", \"RETRO MANIA\", \"RETRO MANIA\", \"RETRO MANIA\", \"RETRO MANIA\", \"Maquete Oficial\", \"Maquete Oficial\", \"MUSEU DO FUTEBOL\", \"MUSEU DO FUTEBOL\", \"SPR\", \"RETRO MANIA\", \"RETRO MANIA\", \"RETRO MANIA\", \"RETRO MANIA\", \"RETRO MANIA\", \"RETRO MANIA\", \"RETRO MANIA\", \"RETRO MANIA\", \"UNDER ARMOUR\", \"UNDER ARMOUR\", \"UNDER ARMOUR\", \"RETRO MANIA\", \"RETRO MANIA\", \"RETRO MANIA\", \"RETRO MANIA\", \"RETRO MANIA\", \"VANS\", \"VANS\", \"Sao Paulo Mania\", \"MUSEU DO FUTEBOL\", \"MUSEU DO FUTEBOL\", \"DIVERSOS\", \"MIZUNO\", \"OXTO\", \"VANS\", \"XERIUS\", \"XERIUS\", \"XERIUS\", \"XERIUS\", \"XERIUS\", \"XERIUS\", \"XERIUS\", \"VANS\", \"VANS\", \"UMBRO\", \"RETRO MANIA\", \"RETRO MANIA\", \"RETRO MANIA\", \"RETRO MANIA\", \"RETRO MANIA\", \"RETRO MANIA\", \"RETRO MANIA\", \"Maquete Oficial\", \"Maquete Oficial\", \"MUSEU DO FUTEBOL\", \"MUSEU DO FUTEBOL\", \"SPR\", \"RETRO MANIA\", \"RETRO MANIA\", \"RETRO MANIA\", \"RETRO MANIA\", \"RETRO MANIA\", \"RETRO MANIA\", \"RETRO MANIA\", \"RETRO MANIA\", \"UNDER ARMOUR\", \"UNDER ARMOUR\", \"UNDER ARMOUR\", \"RETRO MANIA\", \"RETRO MANIA\", \"RETRO MANIA\", \"RETRO MANIA\", \"RETRO MANIA\", \"VANS\", \"VANS\", \"Sao Paulo Mania\", \"MUSEU DO FUTEBOL\", \"MUSEU DO FUTEBOL\", \"DIVERSOS\", \"MIZUNO\", \"OXTO\", \"VANS\", \"XERIUS\", \"XERIUS\", \"XERIUS\", \"XERIUS\", \"XERIUS\", \"XERIUS\", \"XERIUS\", \"VANS\", \"VANS\", \"UMBRO\", \"RETRO MANIA\", \"RETRO MANIA\", \"RETRO MANIA\", \"RETRO MANIA\", \"RETRO MANIA\", \"RETRO MANIA\", \"RETRO MANIA\", \"Maquete Oficial\", \"Maquete Oficial\", \"MUSEU DO FUTEBOL\", \"MUSEU DO FUTEBOL\"], \"y\": [\"1499.90\", \"249.90\", \"479.90\", \"79.90\", \"899.90\", \"199.90\", \"329.90\", \"159.90\", \"299.90\", \"229.90\", \"379.90\", \"399.90\", \"159.90\", \"199.90\", \"299.90\", \"499.90\", \"199.90\", \"299.90\", \"229.90\", \"229.90\", \"249.90\", \"599.90\", \"199.90\", \"349.90\", \"399.90\", \"399.90\", \"249.90\", \"399.90\", \"299.90\", \"179.90\", \"359.90\", \"899.90\", \"499.90\", \"199.90\", \"199.90\", \"99.90\", \"499.90\", \"199.90\", \"199.90\", \"299.90\", \"279.90\", \"399.90\", \"279.90\", \"279.90\", \"699.90\", \"249.90\", \"239.90\", \"499.90\", \"269.90\", \"499.90\", \"1199.90\", \"249.90\", \"249.90\", \"299.90\", \"139.90\", \"399.90\", \"199.90\", \"279.90\", \"699.90\", \"159.90\", \"299.90\", \"189.90\", \"899.90\", \"279.90\", \"279.90\", \"169.90\", \"179.90\", \"349.90\", \"249.90\", \"199.90\", \"169.90\", \"129.90\", \"299.90\", \"279.90\", \"299.90\", \"79.90\", \"549.90\", \"299.90\", \"199.90\", \"399.90\", \"249.90\", \"399.90\", \"399.90\", \"399.90\", \"199.90\", \"149.90\", \"349.90\", \"229.90\", \"269.90\", \"199.90\", \"249.90\", \"179.90\", \"19.90\", \"249.90\", \"229.90\", \"199.90\", \"399.90\", \"699.90\", \"359.90\", \"159.90\", \"179.90\", \"199.90\", \"1599.90\", \"79.90\", \"699.90\", \"189.90\", \"199.90\", \"359.90\", \"359.90\", \"249.90\", \"279.90\", \"229.90\", \"1099.90\", \"139.90\", \"599.90\", \"349.90\", \"279.90\", \"319.90\", \"199.90\", \"379.90\", \"599.90\", \"299.90\", \"279.90\", \"129.90\", \"499.90\", \"259.90\", \"429.90\", \"199.90\", \"299.90\", \"699.90\", \"299.90\", \"159.90\", \"499.90\", \"999.90\", \"499.90\", \"999.90\", \"699.90\", \"299.90\", \"299.90\", \"249.90\", \"599.90\", \"229.90\", \"279.90\", \"279.90\", \"259.90\", \"249.90\", \"179.90\", \"89.90\", \"159.90\", \"379.90\", \"179.90\", \"399.90\", \"249.90\", \"449.90\", \"249.90\", \"399.90\", \"229.90\", \"299.90\", \"349.90\", \"159.90\", \"79.90\", \"329.90\", \"79.90\", \"499.90\", \"79.90\", \"399.90\", \"199.90\", \"179.90\", \"79.90\", \"249.90\", \"99.90\", \"499.90\", \"399.90\", \"599.90\", \"279.90\", \"349.90\", \"359.90\", \"499.90\", \"449.90\", \"399.90\", \"179.90\", \"399.90\", \"279.90\", \"279.90\", \"549.90\", \"249.90\", \"99.90\", \"299.90\", \"79.90\", \"599.90\", \"179.90\", \"59.90\", \"119.90\", \"279.90\", \"159.90\", \"349.90\", \"499.90\", \"249.90\", \"249.90\", \"229.90\", \"29.90\", \"249.90\", \"279.90\", \"199.90\", \"359.90\", \"399.90\", \"399.90\", \"159.90\", \"449.90\", \"159.90\", \"249.90\", \"599.90\", \"949.90\", \"99.90\", \"99.90\", \"239.90\", \"349.90\", \"129.90\", \"129.90\", \"149.90\", \"299.90\", \"159.90\", \"99.90\", \"179.90\", \"279.90\", \"279.90\", \"99.90\", \"699.90\", \"89.90\", \"599.90\", \"229.90\", \"179.90\", \"249.90\", \"279.90\", \"279.90\", \"99.90\", \"199.90\", \"399.90\", \"249.90\", \"159.90\", \"299.90\", \"79.90\", \"599.90\", \"159.90\", \"179.90\", \"79.90\", \"699.90\", \"199.90\", \"199.90\", \"169.90\", \"69.90\", \"349.90\", \"449.90\", \"499.90\", \"159.90\", \"99.90\", \"99.90\", \"299.90\", \"399.90\", \"649.90\", \"399.90\", \"399.90\", \"89.90\", \"499.90\", \"159.90\", \"119.90\", \"399.90\", \"59.90\", \"399.90\", \"99.90\", \"299.90\", \"99.90\", \"199.90\", \"199.90\", \"249.90\", \"99.90\", \"99.90\", \"199.90\", \"699.90\", \"99.90\", \"199.90\", \"249.90\", \"99.90\", \"249.90\", \"149.90\", \"99.90\", \"69.90\", \"149.90\", \"99.90\", \"299.90\", \"79.90\", \"99.90\", \"199.90\", \"279.90\", \"99.90\", \"129.90\", \"269.90\", \"179.90\", \"699.90\", \"399.90\", \"99.90\", \"199.90\", \"999.90\", \"269.90\", \"119.90\", \"24.90\", \"399.90\", \"299.90\", \"199.90\", \"99.90\", \"18.90\", \"229.90\", \"199.90\", \"399.90\", \"119.90\", \"159.90\", \"249.90\", \"179.90\", \"119.90\", \"99.90\", \"199.90\", \"19.90\", \"259.90\", \"69.90\", \"99.90\", \"119.90\", \"49.90\", \"229.90\", \"99.90\", \"79.90\", \"179.90\", \"119.90\", \"59.90\", \"199.90\", \"259.90\", \"299.90\", \"189.90\", \"179.90\", \"159.90\", \"199.90\", \"179.90\", \"159.90\", \"139.90\", \"129.90\", \"69.90\", \"99.90\", \"119.90\", \"59.90\", \"119.90\", \"169.90\", \"69.90\", \"69.90\", \"69.90\", \"79.90\", \"49.90\", \"119.90\", \"119.90\", \"799.90\", \"279.90\", \"99.90\", \"89.90\", \"69.90\", \"199.90\", \"159.90\", \"249.90\", \"99.90\", \"99.90\", \"99.90\", \"119.90\", \"119.90\", \"69.90\", \"129.90\", \"99.90\", \"169.90\", \"99.90\", \"79.90\", \"119.90\", \"329.90\", \"129.90\", \"99.90\", \"99.90\", \"69.90\", \"69.90\", \"69.90\", \"69.90\", \"79.90\", \"59.90\", \"59.90\", \"59.90\", \"59.90\", \"59.90\", \"59.90\", \"79.90\", \"179.90\", \"129.90\", \"79.90\", \"119.90\", \"119.90\", \"119.90\", \"79.90\", \"119.90\", \"149.90\", \"229.90\", \"99.90\", \"99.90\", \"59.90\", \"59.90\", \"199.90\", \"99.90\", \"99.90\", \"99.90\", \"99.90\", \"99.90\", \"99.90\", \"99.90\", \"99.90\", \"99.90\", \"119.90\", \"99.90\", \"49.90\", \"119.90\", \"119.90\", \"119.90\", \"119.90\", \"119.90\", \"159.90\", \"119.90\", \"89.90\", \"89.90\", \"39.90\", \"29.90\", \"69.90\", \"79.90\", \"59.90\", \"59.90\", \"59.90\", \"59.90\", \"59.90\", \"59.90\", \"79.90\", \"179.90\", \"129.90\", \"79.90\", \"119.90\", \"119.90\", \"119.90\", \"79.90\", \"119.90\", \"149.90\", \"229.90\", \"99.90\", \"99.90\", \"59.90\", \"59.90\", \"199.90\", \"99.90\", \"99.90\", \"99.90\", \"99.90\", \"99.90\", \"99.90\", \"99.90\", \"99.90\", \"99.90\", \"119.90\", \"99.90\", \"49.90\", \"119.90\", \"119.90\", \"119.90\", \"119.90\", \"119.90\", \"159.90\", \"119.90\", \"89.90\", \"89.90\", \"39.90\", \"29.90\", \"69.90\", \"79.90\", \"59.90\", \"59.90\", \"59.90\", \"59.90\", \"59.90\", \"59.90\", \"79.90\", \"179.90\", \"129.90\", \"79.90\", \"119.90\", \"119.90\", \"119.90\", \"79.90\", \"119.90\", \"149.90\", \"229.90\", \"99.90\", \"99.90\", \"59.90\", \"59.90\", \"199.90\", \"99.90\", \"99.90\", \"99.90\", \"99.90\", \"99.90\", \"99.90\", \"99.90\", \"99.90\", \"99.90\", \"119.90\", \"99.90\", \"49.90\", \"119.90\", \"119.90\", \"119.90\", \"119.90\", \"119.90\", \"159.90\", \"119.90\", \"89.90\", \"89.90\", \"39.90\", \"29.90\"]}],\n",
       "                        {\"legend\": {\"bgcolor\": \"#F5F6F9\", \"font\": {\"color\": \"#4D5663\"}}, \"paper_bgcolor\": \"#F5F6F9\", \"plot_bgcolor\": \"#F5F6F9\", \"template\": {\"data\": {\"bar\": [{\"error_x\": {\"color\": \"#2a3f5f\"}, \"error_y\": {\"color\": \"#2a3f5f\"}, \"marker\": {\"line\": {\"color\": \"#E5ECF6\", \"width\": 0.5}}, \"type\": \"bar\"}], \"barpolar\": [{\"marker\": {\"line\": {\"color\": \"#E5ECF6\", \"width\": 0.5}}, \"type\": \"barpolar\"}], \"carpet\": [{\"aaxis\": {\"endlinecolor\": \"#2a3f5f\", \"gridcolor\": \"white\", \"linecolor\": \"white\", \"minorgridcolor\": \"white\", \"startlinecolor\": \"#2a3f5f\"}, \"baxis\": {\"endlinecolor\": \"#2a3f5f\", \"gridcolor\": \"white\", \"linecolor\": \"white\", \"minorgridcolor\": \"white\", \"startlinecolor\": \"#2a3f5f\"}, \"type\": \"carpet\"}], \"choropleth\": [{\"colorbar\": {\"outlinewidth\": 0, \"ticks\": \"\"}, \"type\": \"choropleth\"}], \"contour\": [{\"colorbar\": {\"outlinewidth\": 0, \"ticks\": \"\"}, \"colorscale\": [[0.0, \"#0d0887\"], [0.1111111111111111, \"#46039f\"], [0.2222222222222222, \"#7201a8\"], [0.3333333333333333, \"#9c179e\"], [0.4444444444444444, \"#bd3786\"], [0.5555555555555556, \"#d8576b\"], [0.6666666666666666, \"#ed7953\"], [0.7777777777777778, \"#fb9f3a\"], [0.8888888888888888, \"#fdca26\"], [1.0, \"#f0f921\"]], \"type\": \"contour\"}], \"contourcarpet\": [{\"colorbar\": {\"outlinewidth\": 0, \"ticks\": \"\"}, \"type\": \"contourcarpet\"}], \"heatmap\": [{\"colorbar\": {\"outlinewidth\": 0, \"ticks\": \"\"}, \"colorscale\": [[0.0, \"#0d0887\"], [0.1111111111111111, \"#46039f\"], [0.2222222222222222, \"#7201a8\"], [0.3333333333333333, \"#9c179e\"], [0.4444444444444444, \"#bd3786\"], [0.5555555555555556, \"#d8576b\"], [0.6666666666666666, \"#ed7953\"], [0.7777777777777778, \"#fb9f3a\"], [0.8888888888888888, \"#fdca26\"], [1.0, \"#f0f921\"]], \"type\": \"heatmap\"}], \"heatmapgl\": [{\"colorbar\": {\"outlinewidth\": 0, \"ticks\": \"\"}, \"colorscale\": [[0.0, \"#0d0887\"], [0.1111111111111111, \"#46039f\"], [0.2222222222222222, \"#7201a8\"], [0.3333333333333333, \"#9c179e\"], [0.4444444444444444, \"#bd3786\"], [0.5555555555555556, \"#d8576b\"], [0.6666666666666666, \"#ed7953\"], [0.7777777777777778, \"#fb9f3a\"], [0.8888888888888888, \"#fdca26\"], [1.0, \"#f0f921\"]], \"type\": \"heatmapgl\"}], \"histogram\": [{\"marker\": {\"colorbar\": {\"outlinewidth\": 0, \"ticks\": \"\"}}, \"type\": \"histogram\"}], \"histogram2d\": [{\"colorbar\": {\"outlinewidth\": 0, \"ticks\": \"\"}, \"colorscale\": [[0.0, \"#0d0887\"], [0.1111111111111111, \"#46039f\"], [0.2222222222222222, \"#7201a8\"], [0.3333333333333333, \"#9c179e\"], [0.4444444444444444, \"#bd3786\"], [0.5555555555555556, \"#d8576b\"], [0.6666666666666666, \"#ed7953\"], [0.7777777777777778, \"#fb9f3a\"], [0.8888888888888888, \"#fdca26\"], [1.0, \"#f0f921\"]], \"type\": \"histogram2d\"}], \"histogram2dcontour\": [{\"colorbar\": {\"outlinewidth\": 0, \"ticks\": \"\"}, \"colorscale\": [[0.0, \"#0d0887\"], [0.1111111111111111, \"#46039f\"], [0.2222222222222222, \"#7201a8\"], [0.3333333333333333, \"#9c179e\"], [0.4444444444444444, \"#bd3786\"], [0.5555555555555556, \"#d8576b\"], [0.6666666666666666, \"#ed7953\"], [0.7777777777777778, \"#fb9f3a\"], [0.8888888888888888, \"#fdca26\"], [1.0, \"#f0f921\"]], \"type\": \"histogram2dcontour\"}], \"mesh3d\": [{\"colorbar\": {\"outlinewidth\": 0, \"ticks\": \"\"}, \"type\": \"mesh3d\"}], \"parcoords\": [{\"line\": {\"colorbar\": {\"outlinewidth\": 0, \"ticks\": \"\"}}, \"type\": \"parcoords\"}], \"pie\": [{\"automargin\": true, \"type\": \"pie\"}], \"scatter\": [{\"marker\": {\"colorbar\": {\"outlinewidth\": 0, \"ticks\": \"\"}}, \"type\": \"scatter\"}], \"scatter3d\": [{\"line\": {\"colorbar\": {\"outlinewidth\": 0, \"ticks\": \"\"}}, \"marker\": {\"colorbar\": {\"outlinewidth\": 0, \"ticks\": \"\"}}, \"type\": \"scatter3d\"}], \"scattercarpet\": [{\"marker\": {\"colorbar\": {\"outlinewidth\": 0, \"ticks\": \"\"}}, \"type\": \"scattercarpet\"}], \"scattergeo\": [{\"marker\": {\"colorbar\": {\"outlinewidth\": 0, \"ticks\": \"\"}}, \"type\": \"scattergeo\"}], \"scattergl\": [{\"marker\": {\"colorbar\": {\"outlinewidth\": 0, \"ticks\": \"\"}}, \"type\": \"scattergl\"}], \"scattermapbox\": [{\"marker\": {\"colorbar\": {\"outlinewidth\": 0, \"ticks\": \"\"}}, \"type\": \"scattermapbox\"}], \"scatterpolar\": [{\"marker\": {\"colorbar\": {\"outlinewidth\": 0, \"ticks\": \"\"}}, \"type\": \"scatterpolar\"}], \"scatterpolargl\": [{\"marker\": {\"colorbar\": {\"outlinewidth\": 0, \"ticks\": \"\"}}, \"type\": \"scatterpolargl\"}], \"scatterternary\": [{\"marker\": {\"colorbar\": {\"outlinewidth\": 0, \"ticks\": \"\"}}, \"type\": \"scatterternary\"}], \"surface\": [{\"colorbar\": {\"outlinewidth\": 0, \"ticks\": \"\"}, \"colorscale\": [[0.0, \"#0d0887\"], [0.1111111111111111, \"#46039f\"], [0.2222222222222222, \"#7201a8\"], [0.3333333333333333, \"#9c179e\"], [0.4444444444444444, \"#bd3786\"], [0.5555555555555556, \"#d8576b\"], [0.6666666666666666, \"#ed7953\"], [0.7777777777777778, \"#fb9f3a\"], [0.8888888888888888, \"#fdca26\"], [1.0, \"#f0f921\"]], \"type\": \"surface\"}], \"table\": [{\"cells\": {\"fill\": {\"color\": \"#EBF0F8\"}, \"line\": {\"color\": \"white\"}}, \"header\": {\"fill\": {\"color\": \"#C8D4E3\"}, \"line\": {\"color\": \"white\"}}, \"type\": \"table\"}]}, \"layout\": {\"annotationdefaults\": {\"arrowcolor\": \"#2a3f5f\", \"arrowhead\": 0, \"arrowwidth\": 1}, \"coloraxis\": {\"colorbar\": {\"outlinewidth\": 0, \"ticks\": \"\"}}, \"colorscale\": {\"diverging\": [[0, \"#8e0152\"], [0.1, \"#c51b7d\"], [0.2, \"#de77ae\"], [0.3, \"#f1b6da\"], [0.4, \"#fde0ef\"], [0.5, \"#f7f7f7\"], [0.6, \"#e6f5d0\"], [0.7, \"#b8e186\"], [0.8, \"#7fbc41\"], [0.9, \"#4d9221\"], [1, \"#276419\"]], \"sequential\": [[0.0, \"#0d0887\"], [0.1111111111111111, \"#46039f\"], [0.2222222222222222, \"#7201a8\"], [0.3333333333333333, \"#9c179e\"], [0.4444444444444444, \"#bd3786\"], [0.5555555555555556, \"#d8576b\"], [0.6666666666666666, \"#ed7953\"], [0.7777777777777778, \"#fb9f3a\"], [0.8888888888888888, \"#fdca26\"], [1.0, \"#f0f921\"]], \"sequentialminus\": [[0.0, \"#0d0887\"], [0.1111111111111111, \"#46039f\"], [0.2222222222222222, \"#7201a8\"], [0.3333333333333333, \"#9c179e\"], [0.4444444444444444, \"#bd3786\"], [0.5555555555555556, \"#d8576b\"], [0.6666666666666666, \"#ed7953\"], [0.7777777777777778, \"#fb9f3a\"], [0.8888888888888888, \"#fdca26\"], [1.0, \"#f0f921\"]]}, \"colorway\": [\"#636efa\", \"#EF553B\", \"#00cc96\", \"#ab63fa\", \"#FFA15A\", \"#19d3f3\", \"#FF6692\", \"#B6E880\", \"#FF97FF\", \"#FECB52\"], \"font\": {\"color\": \"#2a3f5f\"}, \"geo\": {\"bgcolor\": \"white\", \"lakecolor\": \"white\", \"landcolor\": \"#E5ECF6\", \"showlakes\": true, \"showland\": true, \"subunitcolor\": \"white\"}, \"hoverlabel\": {\"align\": \"left\"}, \"hovermode\": \"closest\", \"mapbox\": {\"style\": \"light\"}, \"paper_bgcolor\": \"white\", \"plot_bgcolor\": \"#E5ECF6\", \"polar\": {\"angularaxis\": {\"gridcolor\": \"white\", \"linecolor\": \"white\", \"ticks\": \"\"}, \"bgcolor\": \"#E5ECF6\", \"radialaxis\": {\"gridcolor\": \"white\", \"linecolor\": \"white\", \"ticks\": \"\"}}, \"scene\": {\"xaxis\": {\"backgroundcolor\": \"#E5ECF6\", \"gridcolor\": \"white\", \"gridwidth\": 2, \"linecolor\": \"white\", \"showbackground\": true, \"ticks\": \"\", \"zerolinecolor\": \"white\"}, \"yaxis\": {\"backgroundcolor\": \"#E5ECF6\", \"gridcolor\": \"white\", \"gridwidth\": 2, \"linecolor\": \"white\", \"showbackground\": true, \"ticks\": \"\", \"zerolinecolor\": \"white\"}, \"zaxis\": {\"backgroundcolor\": \"#E5ECF6\", \"gridcolor\": \"white\", \"gridwidth\": 2, \"linecolor\": \"white\", \"showbackground\": true, \"ticks\": \"\", \"zerolinecolor\": \"white\"}}, \"shapedefaults\": {\"line\": {\"color\": \"#2a3f5f\"}}, \"ternary\": {\"aaxis\": {\"gridcolor\": \"white\", \"linecolor\": \"white\", \"ticks\": \"\"}, \"baxis\": {\"gridcolor\": \"white\", \"linecolor\": \"white\", \"ticks\": \"\"}, \"bgcolor\": \"#E5ECF6\", \"caxis\": {\"gridcolor\": \"white\", \"linecolor\": \"white\", \"ticks\": \"\"}}, \"title\": {\"x\": 0.05}, \"xaxis\": {\"automargin\": true, \"gridcolor\": \"white\", \"linecolor\": \"white\", \"ticks\": \"\", \"title\": {\"standoff\": 15}, \"zerolinecolor\": \"white\", \"zerolinewidth\": 2}, \"yaxis\": {\"automargin\": true, \"gridcolor\": \"white\", \"linecolor\": \"white\", \"ticks\": \"\", \"title\": {\"standoff\": 15}, \"zerolinecolor\": \"white\", \"zerolinewidth\": 2}}}, \"title\": {\"font\": {\"color\": \"#4D5663\"}}, \"xaxis\": {\"gridcolor\": \"#E1E5ED\", \"showgrid\": true, \"tickfont\": {\"color\": \"#4D5663\"}, \"title\": {\"font\": {\"color\": \"#4D5663\"}, \"text\": \"\"}, \"zerolinecolor\": \"#E1E5ED\"}, \"yaxis\": {\"gridcolor\": \"#E1E5ED\", \"showgrid\": true, \"tickfont\": {\"color\": \"#4D5663\"}, \"title\": {\"font\": {\"color\": \"#4D5663\"}, \"text\": \"\"}, \"zerolinecolor\": \"#E1E5ED\"}},\n",
       "                        {\"showLink\": true, \"linkText\": \"Export to plot.ly\", \"plotlyServerURL\": \"https://plot.ly\", \"responsive\": true}\n",
       "                    ).then(function(){\n",
       "                            \n",
       "var gd = document.getElementById('be263cfb-316f-404e-82ea-ad4f32e0651c');\n",
       "var x = new MutationObserver(function (mutations, observer) {{\n",
       "        var display = window.getComputedStyle(gd).display;\n",
       "        if (!display || display === 'none') {{\n",
       "            console.log([gd, 'removed!']);\n",
       "            Plotly.purge(gd);\n",
       "            observer.disconnect();\n",
       "        }}\n",
       "}});\n",
       "\n",
       "// Listen for the removal of the full notebook cells\n",
       "var notebookContainer = gd.closest('#notebook-container');\n",
       "if (notebookContainer) {{\n",
       "    x.observe(notebookContainer, {childList: true});\n",
       "}}\n",
       "\n",
       "// Listen for the clearing of the current output cell\n",
       "var outputEl = gd.closest('.output');\n",
       "if (outputEl) {{\n",
       "    x.observe(outputEl, {childList: true});\n",
       "}}\n",
       "\n",
       "                        })\n",
       "                };\n",
       "                \n",
       "            </script>\n",
       "        </div>\n",
       "</body>\n",
       "</html>"
      ]
     },
     "metadata": {
      "tags": []
     },
     "output_type": "display_data"
    }
   ],
   "source": [
    "#plotando um grafico de dispersão sobre os valores de produtos por marca\n",
    "df_shoes_AWS.iplot(kind='scatter', x='brand',y='price', mode='markers')"
   ]
  },
  {
   "cell_type": "code",
   "execution_count": 31,
   "metadata": {
    "id": "fRUJLh-vzQcX"
   },
   "outputs": [],
   "source": [
    "aux1 = df_shoes_AWS['brand'].value_counts().reset_index()"
   ]
  },
  {
   "cell_type": "code",
   "execution_count": 32,
   "metadata": {
    "id": "tVhoJPQ3gN1N"
   },
   "outputs": [],
   "source": [
    "df_marcas_sum = pd.DataFrame (aux1)"
   ]
  },
  {
   "cell_type": "code",
   "execution_count": 33,
   "metadata": {
    "colab": {
     "base_uri": "https://localhost:8080/",
     "height": 204
    },
    "id": "n0wYeBxRzc9J",
    "outputId": "6625ebea-9cbe-43fc-a3f9-35d77a7f4e7b"
   },
   "outputs": [
    {
     "data": {
      "text/html": [
       "<div>\n",
       "<style scoped>\n",
       "    .dataframe tbody tr th:only-of-type {\n",
       "        vertical-align: middle;\n",
       "    }\n",
       "\n",
       "    .dataframe tbody tr th {\n",
       "        vertical-align: top;\n",
       "    }\n",
       "\n",
       "    .dataframe thead th {\n",
       "        text-align: right;\n",
       "    }\n",
       "</style>\n",
       "<table border=\"1\" class=\"dataframe\">\n",
       "  <thead>\n",
       "    <tr style=\"text-align: right;\">\n",
       "      <th></th>\n",
       "      <th>index</th>\n",
       "      <th>brand</th>\n",
       "    </tr>\n",
       "  </thead>\n",
       "  <tbody>\n",
       "    <tr>\n",
       "      <th>0</th>\n",
       "      <td>RETRO MANIA</td>\n",
       "      <td>75</td>\n",
       "    </tr>\n",
       "    <tr>\n",
       "      <th>1</th>\n",
       "      <td>OLYMPIKUS</td>\n",
       "      <td>52</td>\n",
       "    </tr>\n",
       "    <tr>\n",
       "      <th>2</th>\n",
       "      <td>VANS</td>\n",
       "      <td>41</td>\n",
       "    </tr>\n",
       "    <tr>\n",
       "      <th>3</th>\n",
       "      <td>FILA</td>\n",
       "      <td>41</td>\n",
       "    </tr>\n",
       "    <tr>\n",
       "      <th>4</th>\n",
       "      <td>UNDER ARMOUR</td>\n",
       "      <td>41</td>\n",
       "    </tr>\n",
       "  </tbody>\n",
       "</table>\n",
       "</div>"
      ],
      "text/plain": [
       "          index  brand\n",
       "0   RETRO MANIA     75\n",
       "1     OLYMPIKUS     52\n",
       "2          VANS     41\n",
       "3          FILA     41\n",
       "4  UNDER ARMOUR     41"
      ]
     },
     "execution_count": 33,
     "metadata": {
      "tags": []
     },
     "output_type": "execute_result"
    }
   ],
   "source": [
    "df_marcas_sum.head()"
   ]
  },
  {
   "cell_type": "code",
   "execution_count": 34,
   "metadata": {
    "id": "lizfzLJvzkns"
   },
   "outputs": [],
   "source": [
    "df_marcas_sum.columns = ['nome_marca','total_produtos']"
   ]
  },
  {
   "cell_type": "code",
   "execution_count": 35,
   "metadata": {
    "colab": {
     "base_uri": "https://localhost:8080/",
     "height": 204
    },
    "id": "ozk8cUzzzsSR",
    "outputId": "4a3d40bd-7b4a-42d1-cfa2-de6bff1d2c66"
   },
   "outputs": [
    {
     "data": {
      "text/html": [
       "<div>\n",
       "<style scoped>\n",
       "    .dataframe tbody tr th:only-of-type {\n",
       "        vertical-align: middle;\n",
       "    }\n",
       "\n",
       "    .dataframe tbody tr th {\n",
       "        vertical-align: top;\n",
       "    }\n",
       "\n",
       "    .dataframe thead th {\n",
       "        text-align: right;\n",
       "    }\n",
       "</style>\n",
       "<table border=\"1\" class=\"dataframe\">\n",
       "  <thead>\n",
       "    <tr style=\"text-align: right;\">\n",
       "      <th></th>\n",
       "      <th>nome_marca</th>\n",
       "      <th>total_produtos</th>\n",
       "    </tr>\n",
       "  </thead>\n",
       "  <tbody>\n",
       "    <tr>\n",
       "      <th>0</th>\n",
       "      <td>RETRO MANIA</td>\n",
       "      <td>75</td>\n",
       "    </tr>\n",
       "    <tr>\n",
       "      <th>1</th>\n",
       "      <td>OLYMPIKUS</td>\n",
       "      <td>52</td>\n",
       "    </tr>\n",
       "    <tr>\n",
       "      <th>2</th>\n",
       "      <td>VANS</td>\n",
       "      <td>41</td>\n",
       "    </tr>\n",
       "    <tr>\n",
       "      <th>3</th>\n",
       "      <td>FILA</td>\n",
       "      <td>41</td>\n",
       "    </tr>\n",
       "    <tr>\n",
       "      <th>4</th>\n",
       "      <td>UNDER ARMOUR</td>\n",
       "      <td>41</td>\n",
       "    </tr>\n",
       "  </tbody>\n",
       "</table>\n",
       "</div>"
      ],
      "text/plain": [
       "     nome_marca  total_produtos\n",
       "0   RETRO MANIA              75\n",
       "1     OLYMPIKUS              52\n",
       "2          VANS              41\n",
       "3          FILA              41\n",
       "4  UNDER ARMOUR              41"
      ]
     },
     "execution_count": 35,
     "metadata": {
      "tags": []
     },
     "output_type": "execute_result"
    }
   ],
   "source": [
    "df_marcas_sum.head()"
   ]
  },
  {
   "cell_type": "code",
   "execution_count": 36,
   "metadata": {
    "colab": {
     "base_uri": "https://localhost:8080/",
     "height": 542
    },
    "collapsed": true,
    "id": "Ii7l-LAB0MhB",
    "outputId": "e5c7e80b-559f-409d-c023-e038bc91eea1"
   },
   "outputs": [
    {
     "data": {
      "text/html": [
       "<html>\n",
       "<head><meta charset=\"utf-8\" /></head>\n",
       "<body>\n",
       "    <div>\n",
       "            <script src=\"https://cdnjs.cloudflare.com/ajax/libs/mathjax/2.7.5/MathJax.js?config=TeX-AMS-MML_SVG\"></script><script type=\"text/javascript\">if (window.MathJax) {MathJax.Hub.Config({SVG: {font: \"STIX-Web\"}});}</script>\n",
       "                <script type=\"text/javascript\">window.PlotlyConfig = {MathJaxConfig: 'local'};</script>\n",
       "        <script src=\"https://cdn.plot.ly/plotly-latest.min.js\"></script>    \n",
       "            <div id=\"93738255-aee3-4eb9-b959-466ea9b4d621\" class=\"plotly-graph-div\" style=\"height:525px; width:100%;\"></div>\n",
       "            <script type=\"text/javascript\">\n",
       "                \n",
       "                    window.PLOTLYENV=window.PLOTLYENV || {};\n",
       "                    window.PLOTLYENV.BASE_URL='https://plot.ly';\n",
       "                    \n",
       "                if (document.getElementById(\"93738255-aee3-4eb9-b959-466ea9b4d621\")) {\n",
       "                    Plotly.newPlot(\n",
       "                        '93738255-aee3-4eb9-b959-466ea9b4d621',\n",
       "                        [{\"marker\": {\"color\": \"rgba(55, 128, 191, 0.6)\", \"line\": {\"color\": \"rgba(55, 128, 191, 1.0)\", \"width\": 1}}, \"name\": \"total_produtos\", \"orientation\": \"v\", \"text\": \"\", \"type\": \"bar\", \"x\": [\"RETRO MANIA\", \"OLYMPIKUS\", \"VANS\", \"FILA\", \"UNDER ARMOUR\", \"MIZUNO\", \"ASICS\", \"PUMA\", \"XERIUS\", \"OXTO\", \"SKECHERS\", \"NEW BALANCE\", \"MUSEU DO FUTEBOL\", \"DEMOCRATA\", \"SALOMON\", \"DIADORA\", \"UMBRO\", \"SPR\", \"Maquete Oficial\", \"NEW ERA\", \"OAKLEY\", \"DIVERSOS\", \"ACESSORIOS\", \"Sao Paulo Mania\", \"EVERLAST\", \"Saucony\", \"Osklen\", \"Penalty\", \"AQURUN\", \"FIBER\", \"MELTEX\", \"Petroplus\"], \"y\": [75, 52, 41, 41, 41, 40, 35, 33, 23, 22, 18, 17, 12, 12, 8, 7, 6, 6, 6, 5, 4, 3, 3, 3, 2, 2, 2, 2, 1, 1, 1, 1]}],\n",
       "                        {\"legend\": {\"bgcolor\": \"#F5F6F9\", \"font\": {\"color\": \"#4D5663\"}}, \"paper_bgcolor\": \"#F5F6F9\", \"plot_bgcolor\": \"#F5F6F9\", \"template\": {\"data\": {\"bar\": [{\"error_x\": {\"color\": \"#2a3f5f\"}, \"error_y\": {\"color\": \"#2a3f5f\"}, \"marker\": {\"line\": {\"color\": \"#E5ECF6\", \"width\": 0.5}}, \"type\": \"bar\"}], \"barpolar\": [{\"marker\": {\"line\": {\"color\": \"#E5ECF6\", \"width\": 0.5}}, \"type\": \"barpolar\"}], \"carpet\": [{\"aaxis\": {\"endlinecolor\": \"#2a3f5f\", \"gridcolor\": \"white\", \"linecolor\": \"white\", \"minorgridcolor\": \"white\", \"startlinecolor\": \"#2a3f5f\"}, \"baxis\": {\"endlinecolor\": \"#2a3f5f\", \"gridcolor\": \"white\", \"linecolor\": \"white\", \"minorgridcolor\": \"white\", \"startlinecolor\": \"#2a3f5f\"}, \"type\": \"carpet\"}], \"choropleth\": [{\"colorbar\": {\"outlinewidth\": 0, \"ticks\": \"\"}, \"type\": \"choropleth\"}], \"contour\": [{\"colorbar\": {\"outlinewidth\": 0, \"ticks\": \"\"}, \"colorscale\": [[0.0, \"#0d0887\"], [0.1111111111111111, \"#46039f\"], [0.2222222222222222, \"#7201a8\"], [0.3333333333333333, \"#9c179e\"], [0.4444444444444444, \"#bd3786\"], [0.5555555555555556, \"#d8576b\"], [0.6666666666666666, \"#ed7953\"], [0.7777777777777778, \"#fb9f3a\"], [0.8888888888888888, \"#fdca26\"], [1.0, \"#f0f921\"]], \"type\": \"contour\"}], \"contourcarpet\": [{\"colorbar\": {\"outlinewidth\": 0, \"ticks\": \"\"}, \"type\": \"contourcarpet\"}], \"heatmap\": [{\"colorbar\": {\"outlinewidth\": 0, \"ticks\": \"\"}, \"colorscale\": [[0.0, \"#0d0887\"], [0.1111111111111111, \"#46039f\"], [0.2222222222222222, \"#7201a8\"], [0.3333333333333333, \"#9c179e\"], [0.4444444444444444, \"#bd3786\"], [0.5555555555555556, \"#d8576b\"], [0.6666666666666666, \"#ed7953\"], [0.7777777777777778, \"#fb9f3a\"], [0.8888888888888888, \"#fdca26\"], [1.0, \"#f0f921\"]], \"type\": \"heatmap\"}], \"heatmapgl\": [{\"colorbar\": {\"outlinewidth\": 0, \"ticks\": \"\"}, \"colorscale\": [[0.0, \"#0d0887\"], [0.1111111111111111, \"#46039f\"], [0.2222222222222222, \"#7201a8\"], [0.3333333333333333, \"#9c179e\"], [0.4444444444444444, \"#bd3786\"], [0.5555555555555556, \"#d8576b\"], [0.6666666666666666, \"#ed7953\"], [0.7777777777777778, \"#fb9f3a\"], [0.8888888888888888, \"#fdca26\"], [1.0, \"#f0f921\"]], \"type\": \"heatmapgl\"}], \"histogram\": [{\"marker\": {\"colorbar\": {\"outlinewidth\": 0, \"ticks\": \"\"}}, \"type\": \"histogram\"}], \"histogram2d\": [{\"colorbar\": {\"outlinewidth\": 0, \"ticks\": \"\"}, \"colorscale\": [[0.0, \"#0d0887\"], [0.1111111111111111, \"#46039f\"], [0.2222222222222222, \"#7201a8\"], [0.3333333333333333, \"#9c179e\"], [0.4444444444444444, \"#bd3786\"], [0.5555555555555556, \"#d8576b\"], [0.6666666666666666, \"#ed7953\"], [0.7777777777777778, \"#fb9f3a\"], [0.8888888888888888, \"#fdca26\"], [1.0, \"#f0f921\"]], \"type\": \"histogram2d\"}], \"histogram2dcontour\": [{\"colorbar\": {\"outlinewidth\": 0, \"ticks\": \"\"}, \"colorscale\": [[0.0, \"#0d0887\"], [0.1111111111111111, \"#46039f\"], [0.2222222222222222, \"#7201a8\"], [0.3333333333333333, \"#9c179e\"], [0.4444444444444444, \"#bd3786\"], [0.5555555555555556, \"#d8576b\"], [0.6666666666666666, \"#ed7953\"], [0.7777777777777778, \"#fb9f3a\"], [0.8888888888888888, \"#fdca26\"], [1.0, \"#f0f921\"]], \"type\": \"histogram2dcontour\"}], \"mesh3d\": [{\"colorbar\": {\"outlinewidth\": 0, \"ticks\": \"\"}, \"type\": \"mesh3d\"}], \"parcoords\": [{\"line\": {\"colorbar\": {\"outlinewidth\": 0, \"ticks\": \"\"}}, \"type\": \"parcoords\"}], \"pie\": [{\"automargin\": true, \"type\": \"pie\"}], \"scatter\": [{\"marker\": {\"colorbar\": {\"outlinewidth\": 0, \"ticks\": \"\"}}, \"type\": \"scatter\"}], \"scatter3d\": [{\"line\": {\"colorbar\": {\"outlinewidth\": 0, \"ticks\": \"\"}}, \"marker\": {\"colorbar\": {\"outlinewidth\": 0, \"ticks\": \"\"}}, \"type\": \"scatter3d\"}], \"scattercarpet\": [{\"marker\": {\"colorbar\": {\"outlinewidth\": 0, \"ticks\": \"\"}}, \"type\": \"scattercarpet\"}], \"scattergeo\": [{\"marker\": {\"colorbar\": {\"outlinewidth\": 0, \"ticks\": \"\"}}, \"type\": \"scattergeo\"}], \"scattergl\": [{\"marker\": {\"colorbar\": {\"outlinewidth\": 0, \"ticks\": \"\"}}, \"type\": \"scattergl\"}], \"scattermapbox\": [{\"marker\": {\"colorbar\": {\"outlinewidth\": 0, \"ticks\": \"\"}}, \"type\": \"scattermapbox\"}], \"scatterpolar\": [{\"marker\": {\"colorbar\": {\"outlinewidth\": 0, \"ticks\": \"\"}}, \"type\": \"scatterpolar\"}], \"scatterpolargl\": [{\"marker\": {\"colorbar\": {\"outlinewidth\": 0, \"ticks\": \"\"}}, \"type\": \"scatterpolargl\"}], \"scatterternary\": [{\"marker\": {\"colorbar\": {\"outlinewidth\": 0, \"ticks\": \"\"}}, \"type\": \"scatterternary\"}], \"surface\": [{\"colorbar\": {\"outlinewidth\": 0, \"ticks\": \"\"}, \"colorscale\": [[0.0, \"#0d0887\"], [0.1111111111111111, \"#46039f\"], [0.2222222222222222, \"#7201a8\"], [0.3333333333333333, \"#9c179e\"], [0.4444444444444444, \"#bd3786\"], [0.5555555555555556, \"#d8576b\"], [0.6666666666666666, \"#ed7953\"], [0.7777777777777778, \"#fb9f3a\"], [0.8888888888888888, \"#fdca26\"], [1.0, \"#f0f921\"]], \"type\": \"surface\"}], \"table\": [{\"cells\": {\"fill\": {\"color\": \"#EBF0F8\"}, \"line\": {\"color\": \"white\"}}, \"header\": {\"fill\": {\"color\": \"#C8D4E3\"}, \"line\": {\"color\": \"white\"}}, \"type\": \"table\"}]}, \"layout\": {\"annotationdefaults\": {\"arrowcolor\": \"#2a3f5f\", \"arrowhead\": 0, \"arrowwidth\": 1}, \"coloraxis\": {\"colorbar\": {\"outlinewidth\": 0, \"ticks\": \"\"}}, \"colorscale\": {\"diverging\": [[0, \"#8e0152\"], [0.1, \"#c51b7d\"], [0.2, \"#de77ae\"], [0.3, \"#f1b6da\"], [0.4, \"#fde0ef\"], [0.5, \"#f7f7f7\"], [0.6, \"#e6f5d0\"], [0.7, \"#b8e186\"], [0.8, \"#7fbc41\"], [0.9, \"#4d9221\"], [1, \"#276419\"]], \"sequential\": [[0.0, \"#0d0887\"], [0.1111111111111111, \"#46039f\"], [0.2222222222222222, \"#7201a8\"], [0.3333333333333333, \"#9c179e\"], [0.4444444444444444, \"#bd3786\"], [0.5555555555555556, \"#d8576b\"], [0.6666666666666666, \"#ed7953\"], [0.7777777777777778, \"#fb9f3a\"], [0.8888888888888888, \"#fdca26\"], [1.0, \"#f0f921\"]], \"sequentialminus\": [[0.0, \"#0d0887\"], [0.1111111111111111, \"#46039f\"], [0.2222222222222222, \"#7201a8\"], [0.3333333333333333, \"#9c179e\"], [0.4444444444444444, \"#bd3786\"], [0.5555555555555556, \"#d8576b\"], [0.6666666666666666, \"#ed7953\"], [0.7777777777777778, \"#fb9f3a\"], [0.8888888888888888, \"#fdca26\"], [1.0, \"#f0f921\"]]}, \"colorway\": [\"#636efa\", \"#EF553B\", \"#00cc96\", \"#ab63fa\", \"#FFA15A\", \"#19d3f3\", \"#FF6692\", \"#B6E880\", \"#FF97FF\", \"#FECB52\"], \"font\": {\"color\": \"#2a3f5f\"}, \"geo\": {\"bgcolor\": \"white\", \"lakecolor\": \"white\", \"landcolor\": \"#E5ECF6\", \"showlakes\": true, \"showland\": true, \"subunitcolor\": \"white\"}, \"hoverlabel\": {\"align\": \"left\"}, \"hovermode\": \"closest\", \"mapbox\": {\"style\": \"light\"}, \"paper_bgcolor\": \"white\", \"plot_bgcolor\": \"#E5ECF6\", \"polar\": {\"angularaxis\": {\"gridcolor\": \"white\", \"linecolor\": \"white\", \"ticks\": \"\"}, \"bgcolor\": \"#E5ECF6\", \"radialaxis\": {\"gridcolor\": \"white\", \"linecolor\": \"white\", \"ticks\": \"\"}}, \"scene\": {\"xaxis\": {\"backgroundcolor\": \"#E5ECF6\", \"gridcolor\": \"white\", \"gridwidth\": 2, \"linecolor\": \"white\", \"showbackground\": true, \"ticks\": \"\", \"zerolinecolor\": \"white\"}, \"yaxis\": {\"backgroundcolor\": \"#E5ECF6\", \"gridcolor\": \"white\", \"gridwidth\": 2, \"linecolor\": \"white\", \"showbackground\": true, \"ticks\": \"\", \"zerolinecolor\": \"white\"}, \"zaxis\": {\"backgroundcolor\": \"#E5ECF6\", \"gridcolor\": \"white\", \"gridwidth\": 2, \"linecolor\": \"white\", \"showbackground\": true, \"ticks\": \"\", \"zerolinecolor\": \"white\"}}, \"shapedefaults\": {\"line\": {\"color\": \"#2a3f5f\"}}, \"ternary\": {\"aaxis\": {\"gridcolor\": \"white\", \"linecolor\": \"white\", \"ticks\": \"\"}, \"baxis\": {\"gridcolor\": \"white\", \"linecolor\": \"white\", \"ticks\": \"\"}, \"bgcolor\": \"#E5ECF6\", \"caxis\": {\"gridcolor\": \"white\", \"linecolor\": \"white\", \"ticks\": \"\"}}, \"title\": {\"x\": 0.05}, \"xaxis\": {\"automargin\": true, \"gridcolor\": \"white\", \"linecolor\": \"white\", \"ticks\": \"\", \"title\": {\"standoff\": 15}, \"zerolinecolor\": \"white\", \"zerolinewidth\": 2}, \"yaxis\": {\"automargin\": true, \"gridcolor\": \"white\", \"linecolor\": \"white\", \"ticks\": \"\", \"title\": {\"standoff\": 15}, \"zerolinecolor\": \"white\", \"zerolinewidth\": 2}}}, \"title\": {\"font\": {\"color\": \"#4D5663\"}}, \"xaxis\": {\"gridcolor\": \"#E1E5ED\", \"showgrid\": true, \"tickfont\": {\"color\": \"#4D5663\"}, \"title\": {\"font\": {\"color\": \"#4D5663\"}, \"text\": \"\"}, \"zerolinecolor\": \"#E1E5ED\"}, \"yaxis\": {\"gridcolor\": \"#E1E5ED\", \"showgrid\": true, \"tickfont\": {\"color\": \"#4D5663\"}, \"title\": {\"font\": {\"color\": \"#4D5663\"}, \"text\": \"\"}, \"zerolinecolor\": \"#E1E5ED\"}},\n",
       "                        {\"showLink\": true, \"linkText\": \"Export to plot.ly\", \"plotlyServerURL\": \"https://plot.ly\", \"responsive\": true}\n",
       "                    ).then(function(){\n",
       "                            \n",
       "var gd = document.getElementById('93738255-aee3-4eb9-b959-466ea9b4d621');\n",
       "var x = new MutationObserver(function (mutations, observer) {{\n",
       "        var display = window.getComputedStyle(gd).display;\n",
       "        if (!display || display === 'none') {{\n",
       "            console.log([gd, 'removed!']);\n",
       "            Plotly.purge(gd);\n",
       "            observer.disconnect();\n",
       "        }}\n",
       "}});\n",
       "\n",
       "// Listen for the removal of the full notebook cells\n",
       "var notebookContainer = gd.closest('#notebook-container');\n",
       "if (notebookContainer) {{\n",
       "    x.observe(notebookContainer, {childList: true});\n",
       "}}\n",
       "\n",
       "// Listen for the clearing of the current output cell\n",
       "var outputEl = gd.closest('.output');\n",
       "if (outputEl) {{\n",
       "    x.observe(outputEl, {childList: true});\n",
       "}}\n",
       "\n",
       "                        })\n",
       "                };\n",
       "                \n",
       "            </script>\n",
       "        </div>\n",
       "</body>\n",
       "</html>"
      ]
     },
     "metadata": {
      "tags": []
     },
     "output_type": "display_data"
    }
   ],
   "source": [
    "#plotando graficos de quantidade de produto por marca\n",
    "df_marcas_sum.iplot(kind='bar', x='nome_marca',y='total_produtos', mode='makers', colors='blue')"
   ]
  }
 ],
 "metadata": {
  "colab": {
   "collapsed_sections": [],
   "name": "AC05_WebDataApplications.ipynb",
   "provenance": [],
   "toc_visible": true
  },
  "kernelspec": {
   "display_name": "Python 3",
   "language": "python",
   "name": "python3"
  },
  "language_info": {
   "codemirror_mode": {
    "name": "ipython",
    "version": 3
   },
   "file_extension": ".py",
   "mimetype": "text/x-python",
   "name": "python",
   "nbconvert_exporter": "python",
   "pygments_lexer": "ipython3",
   "version": "3.7.3"
  }
 },
 "nbformat": 4,
 "nbformat_minor": 1
}
